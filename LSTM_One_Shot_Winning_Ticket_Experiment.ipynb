{
  "nbformat": 4,
  "nbformat_minor": 0,
  "metadata": {
    "kernelspec": {
      "display_name": "Python 3",
      "language": "python",
      "name": "python3"
    },
    "language_info": {
      "codemirror_mode": {
        "name": "ipython",
        "version": 3
      },
      "file_extension": ".py",
      "mimetype": "text/x-python",
      "name": "python",
      "nbconvert_exporter": "python",
      "pygments_lexer": "ipython3",
      "version": "3.7.3"
    },
    "colab": {
      "name": "LSTM One Shot Winning Ticket Experiment.ipynb",
      "provenance": [],
      "toc_visible": true
    },
    "accelerator": "GPU"
  },
  "cells": [
    {
      "cell_type": "markdown",
      "metadata": {
        "id": "7-dcWqTLm2id"
      },
      "source": [
        "# Generating Lottery Ticket with one shot pruning\n",
        "\n",
        "In this notebook I will try to generate winning tickets with **one-shot pruning** approach.\n",
        "\n",
        "We will follow the following steps:\n",
        "\n",
        "1. Initiate a model, save the initial weights. \n",
        "\n",
        "2. Train the model till convergence. That will be the original model.\n",
        "\n",
        "3. Prune the p% of the weights (prune the low magnitudes).\n",
        "\n",
        "4. Create a mask for the weights.\n",
        "\n",
        "5. Train a network manually with initial weights and mask\n",
        "\n",
        "6. Evaluate the results\n",
        "\n",
        "### Then additional experiments and comparisons\n",
        "\n",
        "With:\n",
        "\n",
        "7. Random initial weights, proper mask\n",
        "\n",
        "8. Original initial weights, random mask\n",
        "\n",
        "9. Random weights, random mask"
      ]
    },
    {
      "cell_type": "code",
      "metadata": {
        "id": "lX_YwxonjYIS",
        "colab": {
          "base_uri": "https://localhost:8080/",
          "height": 122
        },
        "outputId": "6bf445f7-d78c-4572-ad8b-4a25f9a21599"
      },
      "source": [
        "from google.colab import drive\n",
        "drive.mount('/content/drive')"
      ],
      "execution_count": null,
      "outputs": [
        {
          "output_type": "stream",
          "text": [
            "Go to this URL in a browser: https://accounts.google.com/o/oauth2/auth?client_id=947318989803-6bn6qk8qdgf4n4g3pfee6491hc0brc4i.apps.googleusercontent.com&redirect_uri=urn%3aietf%3awg%3aoauth%3a2.0%3aoob&response_type=code&scope=email%20https%3a%2f%2fwww.googleapis.com%2fauth%2fdocs.test%20https%3a%2f%2fwww.googleapis.com%2fauth%2fdrive%20https%3a%2f%2fwww.googleapis.com%2fauth%2fdrive.photos.readonly%20https%3a%2f%2fwww.googleapis.com%2fauth%2fpeopleapi.readonly\n",
            "\n",
            "Enter your authorization code:\n",
            "··········\n",
            "Mounted at /content/drive\n"
          ],
          "name": "stdout"
        }
      ]
    },
    {
      "cell_type": "code",
      "metadata": {
        "id": "VCDA0UeiJWBw",
        "colab": {
          "base_uri": "https://localhost:8080/",
          "height": 34
        },
        "outputId": "86dba0fe-f527-45b5-c5df-e67dd2f11a41"
      },
      "source": [
        "cd drive/\"My Drive\"/\"Colab Notebooks\""
      ],
      "execution_count": null,
      "outputs": [
        {
          "output_type": "stream",
          "text": [
            "/content/drive/My Drive/Colab Notebooks\n"
          ],
          "name": "stdout"
        }
      ]
    },
    {
      "cell_type": "code",
      "metadata": {
        "id": "iOwsgzIV3BFq",
        "colab": {
          "base_uri": "https://localhost:8080/",
          "height": 207
        },
        "outputId": "e25263e2-df68-4eaa-e95a-85fef031225c"
      },
      "source": [
        "!pip install tensorflow_model_optimization"
      ],
      "execution_count": null,
      "outputs": [
        {
          "output_type": "stream",
          "text": [
            "Collecting tensorflow_model_optimization\n",
            "\u001b[?25l  Downloading https://files.pythonhosted.org/packages/09/7e/e94aa029999ec30951e8129fa992fecbbaffda66eba97c65d5a83f8ea96d/tensorflow_model_optimization-0.3.0-py2.py3-none-any.whl (165kB)\n",
            "\u001b[K     |████████████████████████████████| 174kB 2.8MB/s \n",
            "\u001b[?25hCollecting dm-tree~=0.1.1\n",
            "\u001b[?25l  Downloading https://files.pythonhosted.org/packages/16/48/10fb721334810081b7e6eebeba0d12e12126c76993e8c243062d2f56a89f/dm_tree-0.1.5-cp36-cp36m-manylinux1_x86_64.whl (294kB)\n",
            "\u001b[K     |████████████████████████████████| 296kB 8.7MB/s \n",
            "\u001b[?25hRequirement already satisfied: numpy~=1.14 in /usr/local/lib/python3.6/dist-packages (from tensorflow_model_optimization) (1.18.4)\n",
            "Requirement already satisfied: six~=1.10 in /usr/local/lib/python3.6/dist-packages (from tensorflow_model_optimization) (1.12.0)\n",
            "Installing collected packages: dm-tree, tensorflow-model-optimization\n",
            "Successfully installed dm-tree-0.1.5 tensorflow-model-optimization-0.3.0\n"
          ],
          "name": "stdout"
        }
      ]
    },
    {
      "cell_type": "code",
      "metadata": {
        "id": "zRpVa74_m2il",
        "colab": {
          "base_uri": "https://localhost:8080/",
          "height": 34
        },
        "outputId": "b415337c-e4c9-488a-cd2d-41b765b3373c"
      },
      "source": [
        "%tensorflow_version 2.x\n",
        "import tensorflow as tf\n",
        "print(tf.__version__)\n",
        "import numpy as np\n",
        "import math\n",
        "import os\n",
        "import tensorflow_model_optimization as tfmot\n",
        "from tensorflow_model_optimization.sparsity import keras as sparsity\n",
        "import matplotlib.pyplot as plt\n",
        "from tensorflow.keras import models, layers, datasets\n",
        "from tensorflow.keras import utils\n",
        "from tensorflow.keras.layers import Dense, Dropout, Flatten, Reshape, Input, InputLayer, LSTM, GRU, SimpleRNN, Embedding\n",
        "from tensorflow.keras.models import Sequential, Model\n",
        "from tensorflow.keras.initializers import RandomNormal\n",
        "from sklearn.metrics import accuracy_score, precision_score, recall_score\n",
        "from load_MNIST import load_MNIST\n",
        "from used_func import parameter_count\n"
      ],
      "execution_count": null,
      "outputs": [
        {
          "output_type": "stream",
          "text": [
            "2.2.0\n"
          ],
          "name": "stdout"
        }
      ]
    },
    {
      "cell_type": "code",
      "metadata": {
        "id": "bQ7w3_tZm2i7",
        "colab": {
          "base_uri": "https://localhost:8080/",
          "height": 51
        },
        "outputId": "98cbc906-56d3-4dea-ad3f-8d261c57d721"
      },
      "source": [
        "mnist = tf.keras.datasets.mnist\n",
        "\n",
        "(x_train, y_train), (x_test, y_test) = mnist.load_data()"
      ],
      "execution_count": null,
      "outputs": [
        {
          "output_type": "stream",
          "text": [
            "Downloading data from https://storage.googleapis.com/tensorflow/tf-keras-datasets/mnist.npz\n",
            "11493376/11490434 [==============================] - 0s 0us/step\n"
          ],
          "name": "stdout"
        }
      ]
    },
    {
      "cell_type": "code",
      "metadata": {
        "id": "-Eea5cZcm2jK",
        "colab": {
          "base_uri": "https://localhost:8080/",
          "height": 85
        },
        "outputId": "cb8558f6-9039-4bdd-b9c1-09e21ec67dff"
      },
      "source": [
        "x_train = x_train / 255.0\n",
        "x_test = x_test / 255.0\n",
        "\n",
        "print(\"\\nDimensions of training and testing sets are:\")\n",
        "print(\"X_train.shape = {0}, y_train = {1}\".format(x_train.shape, y_train.shape))\n",
        "print(\"X_test.shape = {0}, y_test = {1}\".format(x_test.shape, y_test.shape))"
      ],
      "execution_count": null,
      "outputs": [
        {
          "output_type": "stream",
          "text": [
            "\n",
            "Dimensions of training and testing sets are:\n",
            "X_train.shape = (60000, 28, 28), y_train = (60000,)\n",
            "X_test.shape = (10000, 28, 28), y_test = (10000,)\n"
          ],
          "name": "stdout"
        }
      ]
    },
    {
      "cell_type": "code",
      "metadata": {
        "id": "nrWPPjGOm2jk"
      },
      "source": [
        "# Specify the parameters to be used for layer-wise pruning, NO PRUNING is done here:\n",
        "pruning_params_unpruned = {\n",
        "    'pruning_schedule': sparsity.ConstantSparsity(\n",
        "        target_sparsity=0.0, begin_step=0,\n",
        "        end_step = 0, frequency=100\n",
        "    )\n",
        "}"
      ],
      "execution_count": null,
      "outputs": []
    },
    {
      "cell_type": "code",
      "metadata": {
        "id": "BKIqJ6vim2js"
      },
      "source": [
        "# Specify the parameters to be used for layer-wise pruning\n",
        "#p=0.2, %30 of the weights will be pruned in this setup\n",
        "#we are setting begin_step=0 because we will prune the trained model\n",
        "\n",
        "pruning_params_pruned = {\n",
        "    'pruning_schedule': sparsity.ConstantSparsity(\n",
        "        target_sparsity=0.3, begin_step=0,\n",
        "        end_step = -1, frequency=100\n",
        "    )\n",
        "}"
      ],
      "execution_count": null,
      "outputs": []
    },
    {
      "cell_type": "code",
      "metadata": {
        "id": "K8dhQiOrm2j3"
      },
      "source": [
        "def pruned_nn(pruning_params):\n",
        "    \"\"\"\n",
        "    Function to define a 300 100 dense\n",
        "    fully connected architecture for MNIST\n",
        "    classification\n",
        "    \"\"\"\n",
        "    pruned_model = Sequential()\n",
        "\n",
        "    pruned_model.add(\n",
        "            Input(shape=(28,28)\n",
        "            )\n",
        "    )\n",
        "\n",
        "    \n",
        "    pruned_model.add(\n",
        "        sparsity.prune_low_magnitude(\n",
        "            LSTM(64,\n",
        "                 activation='relu', \n",
        "                 ), \n",
        "                 **pruning_params)\n",
        "    )\n",
        "\n",
        "    pruned_model.add(\n",
        "        sparsity.prune_low_magnitude(\n",
        "            Dense(\n",
        "                units = 10, activation = 'softmax'\n",
        "            ),\n",
        "            **pruning_params)\n",
        "   )\n",
        "    \n",
        "    \n",
        "    pruned_model.compile(\n",
        "        loss = tf.keras.losses.sparse_categorical_crossentropy,\n",
        "        optimizer=\"adam\",\n",
        "        metrics = ['accuracy'])\n",
        "\n",
        "    return pruned_model\n",
        "\n"
      ],
      "execution_count": null,
      "outputs": []
    },
    {
      "cell_type": "code",
      "metadata": {
        "id": "2tGRcx21m2j8"
      },
      "source": [
        "# Add a pruning step callback to peg the pruning step to the optimizer's \n",
        "# step. Also add a callback to add pruning summaries to tensorboard\n",
        "\n",
        "callbacks = [\n",
        "             sparsity.UpdatePruningStep(),\n",
        "             # sparsity.PruningSummaries(log_dir = logdir, profile_batch=0),\n",
        "             tf.keras.callbacks.EarlyStopping(\n",
        "                 monitor='val_loss', patience = 3,\n",
        "                 min_delta=0.001\n",
        "             )\n",
        "]"
      ],
      "execution_count": null,
      "outputs": []
    },
    {
      "cell_type": "markdown",
      "metadata": {
        "id": "FsW8c5b_m2kJ"
      },
      "source": [
        "## 1: Randomly Initialize the Network\n",
        "\n",
        "In this step we will randomly initialize and train the network. We will save the initial random weights to use them later on."
      ]
    },
    {
      "cell_type": "code",
      "metadata": {
        "id": "RtwNSuA_m2kL",
        "colab": {
          "base_uri": "https://localhost:8080/",
          "height": 105
        },
        "outputId": "b40c5162-45fc-4471-f025-3a740a0ff268"
      },
      "source": [
        "# Instantiate the NN-\n",
        "orig_model = pruned_nn(pruning_params_unpruned)"
      ],
      "execution_count": null,
      "outputs": [
        {
          "output_type": "stream",
          "text": [
            "WARNING:tensorflow:Layer lstm will not use cuDNN kernel since it doesn't meet the cuDNN kernel criteria. It will use generic GPU kernel as fallback when running on GPU\n",
            "WARNING:tensorflow:From /usr/local/lib/python3.6/dist-packages/tensorflow_model_optimization/python/core/sparsity/keras/pruning_wrapper.py:199: Layer.add_variable (from tensorflow.python.keras.engine.base_layer) is deprecated and will be removed in a future version.\n",
            "Instructions for updating:\n",
            "Please use `layer.add_weight` method instead.\n"
          ],
          "name": "stdout"
        }
      ]
    },
    {
      "cell_type": "code",
      "metadata": {
        "id": "GWz2YfbUm2kU",
        "colab": {
          "base_uri": "https://localhost:8080/",
          "height": 34
        },
        "outputId": "137e5cd7-2825-4b49-b188-20766edf735e"
      },
      "source": [
        "# Save random initialized weights BEFORE pruning and training of NN\n",
        "# and BEFORE the model is STRIPPED-\n",
        "\n",
        "#first let's create the folder\n",
        "\n",
        "dirName='ExpLSTM'\n",
        "\n",
        "if not os.path.exists(dirName):\n",
        "    os.mkdir(dirName)\n",
        "    print(\"Directory \" , dirName ,  \" Created \")\n",
        "else:    \n",
        "    print(\"Directory \" , dirName ,  \" already exists\")\n",
        "\n"
      ],
      "execution_count": null,
      "outputs": [
        {
          "output_type": "stream",
          "text": [
            "Directory  ExpLSTM  already exists\n"
          ],
          "name": "stdout"
        }
      ]
    },
    {
      "cell_type": "code",
      "metadata": {
        "id": "8lpRXA_zEgI0"
      },
      "source": [
        "orig_model.save_weights('ExpLSTM/MNIST_300_100_Randomly_Initialized_weights', overwrite=True)"
      ],
      "execution_count": null,
      "outputs": []
    },
    {
      "cell_type": "code",
      "metadata": {
        "id": "Su7VyEPkm2kb"
      },
      "source": [
        "# Strip the pruning wrappers from UNPRUNED model-\n",
        "orig_model_stripped = sparsity.strip_pruning(orig_model)"
      ],
      "execution_count": null,
      "outputs": []
    },
    {
      "cell_type": "code",
      "metadata": {
        "id": "vgma9KE4m2kj"
      },
      "source": [
        "# Save random uninitialized weights BEFORE pruning of NN using STRIPPED model-\n",
        "orig_model_stripped.save_weights(\"ExpLSTM/MNIST_300_100_Original_Weights_Unpruned\", overwrite=True)"
      ],
      "execution_count": null,
      "outputs": []
    },
    {
      "cell_type": "code",
      "metadata": {
        "id": "qZD19prLm2kw",
        "colab": {
          "base_uri": "https://localhost:8080/",
          "height": 204
        },
        "outputId": "7e882b26-e987-4c6c-908b-8c862861af63"
      },
      "source": [
        "orig_model_params=parameter_count('orig_model',orig_model)"
      ],
      "execution_count": null,
      "outputs": [
        {
          "output_type": "stream",
          "text": [
            "\n",
            "In orig_model Number of nonzero parameters in each layer are: \n",
            "\n",
            "7168\n",
            "16384\n",
            "64\n",
            "640\n",
            "0\n",
            "\n",
            "Total number of trainable parameters = 24256\n",
            "\n"
          ],
          "name": "stdout"
        }
      ]
    },
    {
      "cell_type": "code",
      "metadata": {
        "id": "Utnm7-IZm2k4",
        "colab": {
          "base_uri": "https://localhost:8080/",
          "height": 204
        },
        "outputId": "ae161890-c930-4d03-efe6-c35a5e56f5d6"
      },
      "source": [
        "orig_model_stripped_params=parameter_count('orig_model_stripped',orig_model_stripped)"
      ],
      "execution_count": null,
      "outputs": [
        {
          "output_type": "stream",
          "text": [
            "\n",
            "In orig_model_stripped Number of nonzero parameters in each layer are: \n",
            "\n",
            "7168\n",
            "16384\n",
            "64\n",
            "640\n",
            "0\n",
            "\n",
            "Total number of trainable parameters = 24256\n",
            "\n"
          ],
          "name": "stdout"
        }
      ]
    },
    {
      "cell_type": "code",
      "metadata": {
        "id": "9BGJ6lA_m2lD",
        "colab": {
          "base_uri": "https://localhost:8080/",
          "height": 516
        },
        "outputId": "74daa060-4d13-4398-b1e2-c65b71793d91"
      },
      "source": [
        "from tensorflow.keras.utils import  plot_model\n",
        "orig_model.summary()\n",
        "plot_model(orig_model, to_file='model_plot.png', show_shapes=True, show_layer_names=True)"
      ],
      "execution_count": null,
      "outputs": [
        {
          "output_type": "stream",
          "text": [
            "Model: \"sequential\"\n",
            "_________________________________________________________________\n",
            "Layer (type)                 Output Shape              Param #   \n",
            "=================================================================\n",
            "prune_low_magnitude_lstm (Pr (None, 64)                47363     \n",
            "_________________________________________________________________\n",
            "prune_low_magnitude_dense (P (None, 10)                1292      \n",
            "=================================================================\n",
            "Total params: 48,655\n",
            "Trainable params: 24,458\n",
            "Non-trainable params: 24,197\n",
            "_________________________________________________________________\n"
          ],
          "name": "stdout"
        },
        {
          "output_type": "execute_result",
          "data": {
            "image/png": "[encoded data removed]",
            "text/plain": [
              "<IPython.core.display.Image object>"
            ]
          },
          "metadata": {
            "tags": []
          },
          "execution_count": 20
        }
      ]
    },
    {
      "cell_type": "code",
      "metadata": {
        "id": "a2gl3zgsm2lK",
        "colab": {
          "base_uri": "https://localhost:8080/",
          "height": 221
        },
        "outputId": "02863a0a-1cad-4450-fdfc-e62fccab9ae1"
      },
      "source": [
        "orig_model_stripped.summary()"
      ],
      "execution_count": null,
      "outputs": [
        {
          "output_type": "stream",
          "text": [
            "Model: \"sequential\"\n",
            "_________________________________________________________________\n",
            "Layer (type)                 Output Shape              Param #   \n",
            "=================================================================\n",
            "lstm (LSTM)                  (None, 64)                23808     \n",
            "_________________________________________________________________\n",
            "dense (Dense)                (None, 10)                650       \n",
            "=================================================================\n",
            "Total params: 24,458\n",
            "Trainable params: 24,458\n",
            "Non-trainable params: 0\n",
            "_________________________________________________________________\n"
          ],
          "name": "stdout"
        }
      ]
    },
    {
      "cell_type": "markdown",
      "metadata": {
        "id": "xMIIfi5Rm2lP"
      },
      "source": [
        "### 2: Train the unpruned Network until it converges\n",
        "_Early Stopping_ criterion has been used for training of the model\n",
        "\n",
        "This Early Stopping criterion is important to decide on the winning ticket"
      ]
    },
    {
      "cell_type": "code",
      "metadata": {
        "id": "Q81pHdpCm2lS",
        "colab": {
          "base_uri": "https://localhost:8080/",
          "height": 377
        },
        "outputId": "a2554776-17d8-4d55-8d1a-41a9d25e5492"
      },
      "source": [
        "# Train unpruned Neural Network-\n",
        "history_orig = orig_model.fit(\n",
        "    x = x_train, y = y_train,\n",
        "    batch_size = 32,\n",
        "    epochs = 10,\n",
        "    verbose = 1,\n",
        "    callbacks = callbacks,\n",
        "    validation_data = (x_test, y_test),\n",
        "    shuffle = True\n",
        ")\n"
      ],
      "execution_count": null,
      "outputs": [
        {
          "output_type": "stream",
          "text": [
            "Epoch 1/10\n",
            "1875/1875 [==============================] - 37s 20ms/step - loss: 0.5926 - accuracy: 0.8107 - val_loss: 0.2199 - val_accuracy: 0.9300\n",
            "Epoch 2/10\n",
            "1875/1875 [==============================] - 36s 19ms/step - loss: 0.1579 - accuracy: 0.9517 - val_loss: 0.1357 - val_accuracy: 0.9566\n",
            "Epoch 3/10\n",
            "1875/1875 [==============================] - 36s 19ms/step - loss: 0.1133 - accuracy: 0.9657 - val_loss: 0.1223 - val_accuracy: 0.9627\n",
            "Epoch 4/10\n",
            "1875/1875 [==============================] - 36s 19ms/step - loss: 0.0846 - accuracy: 0.9741 - val_loss: 0.0738 - val_accuracy: 0.9782\n",
            "Epoch 5/10\n",
            "1875/1875 [==============================] - 37s 20ms/step - loss: 0.0712 - accuracy: 0.9782 - val_loss: 0.0661 - val_accuracy: 0.9790\n",
            "Epoch 6/10\n",
            "1875/1875 [==============================] - 36s 19ms/step - loss: 0.0623 - accuracy: 0.9809 - val_loss: 0.0651 - val_accuracy: 0.9798\n",
            "Epoch 7/10\n",
            "1875/1875 [==============================] - 38s 20ms/step - loss: 0.0527 - accuracy: 0.9837 - val_loss: 0.0459 - val_accuracy: 0.9858\n",
            "Epoch 8/10\n",
            "1875/1875 [==============================] - 37s 20ms/step - loss: 0.0470 - accuracy: 0.9855 - val_loss: 0.0500 - val_accuracy: 0.9848\n",
            "Epoch 9/10\n",
            "1875/1875 [==============================] - 38s 20ms/step - loss: 0.0423 - accuracy: 0.9869 - val_loss: 0.0493 - val_accuracy: 0.9848\n",
            "Epoch 10/10\n",
            "1875/1875 [==============================] - 37s 20ms/step - loss: 0.0409 - accuracy: 0.9875 - val_loss: 0.0614 - val_accuracy: 0.9807\n"
          ],
          "name": "stdout"
        }
      ]
    },
    {
      "cell_type": "code",
      "metadata": {
        "id": "yC9J7bnCm2li",
        "colab": {
          "base_uri": "https://localhost:8080/",
          "height": 85
        },
        "outputId": "09acbfdd-d50e-4e8f-d0c0-75f7f0a7e2f6"
      },
      "source": [
        "# Evaluate original unpruned trained model on testing dataset-\n",
        "score_orig_model = orig_model.evaluate(x_test, y_test, verbose=0)\n",
        "\n",
        "print(\"\\nOriginal & UNPRUNED model metrics on testing dataset:\")\n",
        "print(\"loss = {0:.4f} and accuracy = {1:.4f}\\n\".format(score_orig_model[0], score_orig_model[1]))"
      ],
      "execution_count": null,
      "outputs": [
        {
          "output_type": "stream",
          "text": [
            "\n",
            "Original & UNPRUNED model metrics on testing dataset:\n",
            "loss = 0.0614 and accuracy = 0.9807\n",
            "\n"
          ],
          "name": "stdout"
        }
      ]
    },
    {
      "cell_type": "code",
      "metadata": {
        "id": "xYfYKxwJm2lq"
      },
      "source": [
        "# Trained parameters of neural network AFTER training UNPRUNED model-\n",
        "orig_model.save_weights(\"ExpLSTM/MNIST_300_100_Trained_Weights_Unpruned\", overwrite = True)"
      ],
      "execution_count": null,
      "outputs": []
    },
    {
      "cell_type": "code",
      "metadata": {
        "id": "5wKjWKJMm2lu",
        "colab": {
          "base_uri": "https://localhost:8080/",
          "height": 991
        },
        "outputId": "3861bca0-5ad1-49d4-9605-51e829269cdb"
      },
      "source": [
        "# Visualize the training of the neural network (scalar metrics):\n",
        "fig=plt.figure(figsize=(8, 7), dpi= 80, facecolor='w', edgecolor='k')\n",
        "\n",
        "plt.plot(history_orig.history['loss'], label = 'training loss')\n",
        "plt.plot(history_orig.history['val_loss'], label = 'testing_loss')\n",
        "\n",
        "plt.title(\"MNIST LSTM model - UNPRUNED training visualization - Loss\")\n",
        "plt.xlabel(\"number of epochs\")\n",
        "plt.ylabel(\"Loss\")\n",
        "plt.legend(loc = 'best')\n",
        "plt.show()\n",
        "\n",
        "fig=plt.figure(figsize=(8, 7), dpi= 80, facecolor='w', edgecolor='k')\n",
        "\n",
        "plt.plot(history_orig.history['accuracy'], label = 'training accuracy')\n",
        "plt.plot(history_orig.history['val_accuracy'], label = 'testing accuracy')\n",
        "\n",
        "plt.title(\"MNIST LSTM model - UNPRUNED training visualization - Accuracy\")\n",
        "plt.xlabel(\"number of epochs\")\n",
        "plt.ylabel(\"Accuracy\")\n",
        "plt.legend(loc = 'best')  # 'center right'\n",
        "plt.show()\n"
      ],
      "execution_count": null,
      "outputs": [
        {
          "output_type": "display_data",
          "data": {
            "image/png": "[encoded data removed]",
            "text/plain": [
              "<Figure size 640x560 with 1 Axes>"
            ]
          },
          "metadata": {
            "tags": []
          }
        },
        {
          "output_type": "display_data",
          "data": {
            "image/png": "[encoded data removed]",
            "text/plain": [
              "<Figure size 640x560 with 1 Axes>"
            ]
          },
          "metadata": {
            "tags": []
          }
        }
      ]
    },
    {
      "cell_type": "markdown",
      "metadata": {
        "id": "ybq4NuTQm2lz"
      },
      "source": [
        "### Count number of non-zero parameters in each layer-"
      ]
    },
    {
      "cell_type": "code",
      "metadata": {
        "id": "CeMw820sm2l1",
        "colab": {
          "base_uri": "https://localhost:8080/",
          "height": 204
        },
        "outputId": "cd6ff8cc-8fa0-478c-cc6c-bc3a57d77d70"
      },
      "source": [
        "orig_model_trained_params=parameter_count('orig_model_trained',orig_model)"
      ],
      "execution_count": null,
      "outputs": [
        {
          "output_type": "stream",
          "text": [
            "\n",
            "In orig_model_trained Number of nonzero parameters in each layer are: \n",
            "\n",
            "7168\n",
            "16384\n",
            "256\n",
            "640\n",
            "10\n",
            "\n",
            "Total number of trainable parameters = 24458\n",
            "\n"
          ],
          "name": "stdout"
        }
      ]
    },
    {
      "cell_type": "markdown",
      "metadata": {
        "id": "El8XlKizm2l-"
      },
      "source": [
        "### Observation\n",
        "\n",
        "The parameter count is 410 more, because 410 is the number of the hidden units\n",
        "\n",
        "Beside that we can see that the number of the weigths remained same since there were no pruning"
      ]
    },
    {
      "cell_type": "markdown",
      "metadata": {
        "id": "tYtMFi5pm2mA"
      },
      "source": [
        "## 3 Pruning the network with one-shot pruning\n",
        "\n",
        "Here, the trained model will be pruned p% of its weights\n"
      ]
    },
    {
      "cell_type": "code",
      "metadata": {
        "id": "yivMP7IZm2mC",
        "colab": {
          "base_uri": "https://localhost:8080/",
          "height": 54
        },
        "outputId": "0aae7921-ecfc-43df-e276-80ca327752e8"
      },
      "source": [
        "# Instantiate a Nueal Network model to be pruned using parameters from above-\n",
        "pruned_model = pruned_nn(pruning_params_pruned)"
      ],
      "execution_count": null,
      "outputs": [
        {
          "output_type": "stream",
          "text": [
            "WARNING:tensorflow:Layer lstm_1 will not use cuDNN kernel since it doesn't meet the cuDNN kernel criteria. It will use generic GPU kernel as fallback when running on GPU\n"
          ],
          "name": "stdout"
        }
      ]
    },
    {
      "cell_type": "code",
      "metadata": {
        "id": "vKq-hHywm2mI",
        "colab": {
          "base_uri": "https://localhost:8080/",
          "height": 34
        },
        "outputId": "2cc7cf5e-4920-4212-c638-da96e80a9ec3"
      },
      "source": [
        "# Load weights from original trained and unpruned model-\n",
        "pruned_model.load_weights(\"ExpLSTM/MNIST_300_100_Trained_Weights_Unpruned\")"
      ],
      "execution_count": null,
      "outputs": [
        {
          "output_type": "execute_result",
          "data": {
            "text/plain": [
              "<tensorflow.python.training.tracking.util.CheckpointLoadStatus at 0x7ffa30025080>"
            ]
          },
          "metadata": {
            "tags": []
          },
          "execution_count": 28
        }
      ]
    },
    {
      "cell_type": "code",
      "metadata": {
        "id": "NFKz6O5Fm2mM",
        "colab": {
          "base_uri": "https://localhost:8080/",
          "height": 275
        },
        "outputId": "00a6e411-3c46-42fc-ad9b-1bf14d2974e5"
      },
      "source": [
        "# Train pruned NN\n",
        "history_pruned = pruned_model.fit(\n",
        "    x = x_train, y = y_train,\n",
        "    batch_size = 32,\n",
        "    epochs = 10,\n",
        "    verbose = 1,\n",
        "    callbacks = callbacks,\n",
        "    validation_data = (x_test, y_test),\n",
        "    shuffle = True\n",
        ")\n"
      ],
      "execution_count": null,
      "outputs": [
        {
          "output_type": "stream",
          "text": [
            "Epoch 1/10\n",
            "1875/1875 [==============================] - 37s 19ms/step - loss: 0.0297 - accuracy: 0.9908 - val_loss: 0.0443 - val_accuracy: 0.9864\n",
            "Epoch 2/10\n",
            "1875/1875 [==============================] - 36s 19ms/step - loss: 0.0258 - accuracy: 0.9916 - val_loss: 0.0456 - val_accuracy: 0.9870\n",
            "Epoch 3/10\n",
            "1875/1875 [==============================] - 37s 20ms/step - loss: 0.0226 - accuracy: 0.9927 - val_loss: 0.0471 - val_accuracy: 0.9868\n",
            "Epoch 4/10\n",
            "1875/1875 [==============================] - 37s 20ms/step - loss: 0.0223 - accuracy: 0.9927 - val_loss: 0.0409 - val_accuracy: 0.9881\n",
            "Epoch 5/10\n",
            "1875/1875 [==============================] - 37s 20ms/step - loss: 0.0204 - accuracy: 0.9934 - val_loss: 0.0538 - val_accuracy: 0.9858\n",
            "Epoch 6/10\n",
            "1875/1875 [==============================] - 37s 20ms/step - loss: 0.0197 - accuracy: 0.9935 - val_loss: 0.0575 - val_accuracy: 0.9856\n",
            "Epoch 7/10\n",
            "1875/1875 [==============================] - 37s 20ms/step - loss: 0.0171 - accuracy: 0.9945 - val_loss: 0.0472 - val_accuracy: 0.9866\n"
          ],
          "name": "stdout"
        }
      ]
    },
    {
      "cell_type": "code",
      "metadata": {
        "id": "VjoXQhcPm2mP",
        "colab": {
          "base_uri": "https://localhost:8080/",
          "height": 85
        },
        "outputId": "1bcfa914-0990-473a-b577-3f645725d83b"
      },
      "source": [
        "# Evaluate pruned trained model on testing dataset-\n",
        "score_pruned_model = pruned_model.evaluate(x_test, y_test, verbose = 0)\n",
        "\n",
        "print(\"\\nPRUNED model metrics on testing dataset:\")\n",
        "print(\"loss = {0:.4f} and accuracy = {1:.4f}\\n\".format(score_pruned_model[0], score_pruned_model[1]))"
      ],
      "execution_count": null,
      "outputs": [
        {
          "output_type": "stream",
          "text": [
            "\n",
            "PRUNED model metrics on testing dataset:\n",
            "loss = 0.0472 and accuracy = 0.9866\n",
            "\n"
          ],
          "name": "stdout"
        }
      ]
    },
    {
      "cell_type": "code",
      "metadata": {
        "id": "-22HroTgm2mT"
      },
      "source": [
        "# Save weights of PRUNED and Trained model BEFORE stripping-\n",
        "pruned_model.save_weights(\"ExpLSTM/MNIST_300_100_Weights_Pruned_with_pruning_params\", overwrite = True)"
      ],
      "execution_count": null,
      "outputs": []
    },
    {
      "cell_type": "code",
      "metadata": {
        "id": "mKz_uQ6V1l46",
        "colab": {
          "base_uri": "https://localhost:8080/",
          "height": 991
        },
        "outputId": "a75524ef-1b72-4abe-fefa-47aeae1b580d"
      },
      "source": [
        "# Visualize the training of the neural network (scalar metrics):\n",
        "fig=plt.figure(figsize=(8, 7), dpi= 80, facecolor='w', edgecolor='k')\n",
        "\n",
        "plt.plot(history_pruned.history['loss'], label = 'training loss')\n",
        "plt.plot(history_pruned.history['val_loss'], label = 'testing_loss')\n",
        "\n",
        "plt.title(\"MNIST LSTM model - PRUNED training visualization - Loss\")\n",
        "plt.xlabel(\"number of epochs\")\n",
        "plt.ylabel(\"Loss\")\n",
        "plt.legend(loc = 'best')\n",
        "plt.show()\n",
        "\n",
        "fig=plt.figure(figsize=(8, 7), dpi= 80, facecolor='w', edgecolor='k')\n",
        "\n",
        "plt.plot(history_pruned.history['accuracy'], label = 'training accuracy')\n",
        "plt.plot(history_pruned.history['val_accuracy'], label = 'testing accuracy')\n",
        "\n",
        "plt.title(\"MNIST LSTM model - PRUNED training visualization - Accuracy\")\n",
        "plt.xlabel(\"number of epochs\")\n",
        "plt.ylabel(\"Accuracy\")\n",
        "plt.legend(loc = 'best')  # 'center right'\n",
        "plt.show()"
      ],
      "execution_count": null,
      "outputs": [
        {
          "output_type": "display_data",
          "data": {
            "image/png": "[encoded data removed]",
            "text/plain": [
              "<Figure size 640x560 with 1 Axes>"
            ]
          },
          "metadata": {
            "tags": []
          }
        },
        {
          "output_type": "display_data",
          "data": {
            "image/png": "[encoded data removed]",
            "text/plain": [
              "<Figure size 640x560 with 1 Axes>"
            ]
          },
          "metadata": {
            "tags": []
          }
        }
      ]
    },
    {
      "cell_type": "code",
      "metadata": {
        "id": "ryCZqLiFm2mW"
      },
      "source": [
        "# Strip the pruning wrappers from pruned model-\n",
        "pruned_model_stripped = sparsity.strip_pruning(pruned_model)"
      ],
      "execution_count": null,
      "outputs": []
    },
    {
      "cell_type": "code",
      "metadata": {
        "id": "Lzn_PhN6m2mb",
        "colab": {
          "base_uri": "https://localhost:8080/",
          "height": 221
        },
        "outputId": "0f3e135e-af75-4edb-fc93-ae878a377522"
      },
      "source": [
        "# Show architecture of model (with pruning parameters)-\n",
        "pruned_model_stripped.summary()"
      ],
      "execution_count": null,
      "outputs": [
        {
          "output_type": "stream",
          "text": [
            "Model: \"sequential_1\"\n",
            "_________________________________________________________________\n",
            "Layer (type)                 Output Shape              Param #   \n",
            "=================================================================\n",
            "lstm_1 (LSTM)                (None, 64)                23808     \n",
            "_________________________________________________________________\n",
            "dense_1 (Dense)              (None, 10)                650       \n",
            "=================================================================\n",
            "Total params: 24,458\n",
            "Trainable params: 24,458\n",
            "Non-trainable params: 0\n",
            "_________________________________________________________________\n"
          ],
          "name": "stdout"
        }
      ]
    },
    {
      "cell_type": "markdown",
      "metadata": {
        "id": "PR_JvRo1m2mf"
      },
      "source": [
        "### THIS IS IMPORTANT!!!\n",
        "\n",
        "We have to reload the initial weights to the original model. Otherwise it will use the trained ones."
      ]
    },
    {
      "cell_type": "code",
      "metadata": {
        "id": "yjd52cekm2mg",
        "colab": {
          "base_uri": "https://localhost:8080/",
          "height": 204
        },
        "outputId": "c5e53b58-9178-41d7-cb5a-b6e945c9bfa9"
      },
      "source": [
        "# we need to load the original weights to the model before we continue\n",
        "\n",
        "orig_model_stripped.load_weights(\"ExpLSTM/MNIST_300_100_Original_Weights_Unpruned\")\n",
        "\n",
        "orig_model_stripped_params=parameter_count('orig_model_stripped',orig_model_stripped)"
      ],
      "execution_count": null,
      "outputs": [
        {
          "output_type": "stream",
          "text": [
            "\n",
            "In orig_model_stripped Number of nonzero parameters in each layer are: \n",
            "\n",
            "7168\n",
            "16384\n",
            "64\n",
            "640\n",
            "0\n",
            "\n",
            "Total number of trainable parameters = 24256\n",
            "\n"
          ],
          "name": "stdout"
        }
      ]
    },
    {
      "cell_type": "code",
      "metadata": {
        "id": "mM7fs8K3m2mo",
        "colab": {
          "base_uri": "https://localhost:8080/",
          "height": 204
        },
        "outputId": "1b9539a1-cf4f-4344-b7a7-1540f533c80d"
      },
      "source": [
        "pruned_model_params=parameter_count('pruned_model',pruned_model)"
      ],
      "execution_count": null,
      "outputs": [
        {
          "output_type": "stream",
          "text": [
            "\n",
            "In pruned_model Number of nonzero parameters in each layer are: \n",
            "\n",
            "5018\n",
            "11469\n",
            "256\n",
            "448\n",
            "10\n",
            "\n",
            "Total number of trainable parameters = 17201\n",
            "\n"
          ],
          "name": "stdout"
        }
      ]
    },
    {
      "cell_type": "code",
      "metadata": {
        "id": "nWfaJXtzm2mr",
        "colab": {
          "base_uri": "https://localhost:8080/",
          "height": 68
        },
        "outputId": "59e095e2-154a-4af9-891a-fbd63a0f77fa"
      },
      "source": [
        "# Sanity-check: confirm that p = 30% of the weights are actually pruned away from the network-\n",
        "\n",
        "#we are subtracting 410 because it is the number of the units in the neural net\n",
        "\n",
        "print(\"\\n% of weights pruned away = {0:.2f}%\\n\".format( \\\n",
        "    (orig_model_stripped_params - pruned_model_params- 24458) / orig_model_stripped_params * 100))"
      ],
      "execution_count": null,
      "outputs": [
        {
          "output_type": "stream",
          "text": [
            "\n",
            "% of weights pruned away = -71.75%\n",
            "\n"
          ],
          "name": "stdout"
        }
      ]
    },
    {
      "cell_type": "markdown",
      "metadata": {
        "id": "MTbSyrU1m2mv"
      },
      "source": [
        "## 4: Create mask with pruned weights:\n",
        "\n",
        "We use pruned model to create a mask\n",
        "\n",
        "The mask is created as follows-\n",
        "\n",
        "1. Weights surviving the pruning are set to one (1)\n",
        "1. Weights which are pruned are set to zero (0)"
      ]
    },
    {
      "cell_type": "code",
      "metadata": {
        "id": "gytQm3k9m2mw",
        "colab": {
          "base_uri": "https://localhost:8080/",
          "height": 54
        },
        "outputId": "632f0d96-7e88-4023-a1d8-0acb10925722"
      },
      "source": [
        "# Instantiate a new neural network model for which, the mask is to be created,\n",
        "\n",
        "mask_model = pruned_nn(pruning_params_unpruned)"
      ],
      "execution_count": null,
      "outputs": [
        {
          "output_type": "stream",
          "text": [
            "WARNING:tensorflow:Layer lstm_2 will not use cuDNN kernel since it doesn't meet the cuDNN kernel criteria. It will use generic GPU kernel as fallback when running on GPU\n"
          ],
          "name": "stdout"
        }
      ]
    },
    {
      "cell_type": "code",
      "metadata": {
        "id": "y3rzdq_Vm2mz",
        "colab": {
          "base_uri": "https://localhost:8080/",
          "height": 34
        },
        "outputId": "36f0033d-1e6e-4db3-c177-abc94c6152b9"
      },
      "source": [
        "# Load weights of PRUNED model-\n",
        "mask_model.load_weights(\"ExpLSTM/MNIST_300_100_Weights_Pruned_with_pruning_params\")"
      ],
      "execution_count": null,
      "outputs": [
        {
          "output_type": "execute_result",
          "data": {
            "text/plain": [
              "<tensorflow.python.training.tracking.util.CheckpointLoadStatus at 0x7ff9d1334c88>"
            ]
          },
          "metadata": {
            "tags": []
          },
          "execution_count": 39
        }
      ]
    },
    {
      "cell_type": "code",
      "metadata": {
        "id": "0WnZHT88m2m1"
      },
      "source": [
        "# Strip the model of its pruning parameters-\n",
        "mask_model_stripped = sparsity.strip_pruning(mask_model)"
      ],
      "execution_count": null,
      "outputs": []
    },
    {
      "cell_type": "code",
      "metadata": {
        "id": "oxs-S8Awm2m5"
      },
      "source": [
        "# For each layer, for each weight which is 0, leave it, as is.\n",
        "# And for weights which survive the pruning,reinitialize it to ONE (1)-\n",
        "\n",
        "for wts in mask_model_stripped.trainable_weights:\n",
        "    wts.assign(tf.where(tf.equal(wts, 0.), 0., 1.))"
      ],
      "execution_count": null,
      "outputs": []
    },
    {
      "cell_type": "code",
      "metadata": {
        "id": "Oo6jX6P2m2m9",
        "colab": {
          "base_uri": "https://localhost:8080/",
          "height": 153
        },
        "outputId": "a1811847-ab40-48b0-fde5-aa410f38b8a1"
      },
      "source": [
        "print(\"\\nNetwork architecture of masked model:\\n\")\n",
        "\n",
        "for layer in mask_model_stripped.trainable_weights:\n",
        "    print(layer.shape)"
      ],
      "execution_count": null,
      "outputs": [
        {
          "output_type": "stream",
          "text": [
            "\n",
            "Network architecture of masked model:\n",
            "\n",
            "(28, 256)\n",
            "(64, 256)\n",
            "(256,)\n",
            "(64, 10)\n",
            "(10,)\n"
          ],
          "name": "stdout"
        }
      ]
    },
    {
      "cell_type": "code",
      "metadata": {
        "id": "fUzxtlCem2nA",
        "colab": {
          "base_uri": "https://localhost:8080/",
          "height": 306
        },
        "outputId": "2d200e41-4fbe-4753-b78f-fdb37611dc93"
      },
      "source": [
        "# Sanity check whether mask is indeed created-\n",
        "\n",
        "mask_model_stripped.trainable_weights[2]"
      ],
      "execution_count": null,
      "outputs": [
        {
          "output_type": "execute_result",
          "data": {
            "text/plain": [
              "<tf.Variable 'prune_low_magnitude_lstm_2/lstm_cell_2/bias:0' shape=(256,) dtype=float32, numpy=\n",
              "array([1., 1., 1., 1., 1., 1., 1., 1., 1., 1., 1., 1., 1., 1., 1., 1., 1.,\n",
              "       1., 1., 1., 1., 1., 1., 1., 1., 1., 1., 1., 1., 1., 1., 1., 1., 1.,\n",
              "       1., 1., 1., 1., 1., 1., 1., 1., 1., 1., 1., 1., 1., 1., 1., 1., 1.,\n",
              "       1., 1., 1., 1., 1., 1., 1., 1., 1., 1., 1., 1., 1., 1., 1., 1., 1.,\n",
              "       1., 1., 1., 1., 1., 1., 1., 1., 1., 1., 1., 1., 1., 1., 1., 1., 1.,\n",
              "       1., 1., 1., 1., 1., 1., 1., 1., 1., 1., 1., 1., 1., 1., 1., 1., 1.,\n",
              "       1., 1., 1., 1., 1., 1., 1., 1., 1., 1., 1., 1., 1., 1., 1., 1., 1.,\n",
              "       1., 1., 1., 1., 1., 1., 1., 1., 1., 1., 1., 1., 1., 1., 1., 1., 1.,\n",
              "       1., 1., 1., 1., 1., 1., 1., 1., 1., 1., 1., 1., 1., 1., 1., 1., 1.,\n",
              "       1., 1., 1., 1., 1., 1., 1., 1., 1., 1., 1., 1., 1., 1., 1., 1., 1.,\n",
              "       1., 1., 1., 1., 1., 1., 1., 1., 1., 1., 1., 1., 1., 1., 1., 1., 1.,\n",
              "       1., 1., 1., 1., 1., 1., 1., 1., 1., 1., 1., 1., 1., 1., 1., 1., 1.,\n",
              "       1., 1., 1., 1., 1., 1., 1., 1., 1., 1., 1., 1., 1., 1., 1., 1., 1.,\n",
              "       1., 1., 1., 1., 1., 1., 1., 1., 1., 1., 1., 1., 1., 1., 1., 1., 1.,\n",
              "       1., 1., 1., 1., 1., 1., 1., 1., 1., 1., 1., 1., 1., 1., 1., 1., 1.,\n",
              "       1.], dtype=float32)>"
            ]
          },
          "metadata": {
            "tags": []
          },
          "execution_count": 43
        }
      ]
    },
    {
      "cell_type": "code",
      "metadata": {
        "id": "AcezaSK4m2nD",
        "colab": {
          "base_uri": "https://localhost:8080/",
          "height": 204
        },
        "outputId": "534e043a-f943-4a15-bb72-3183df721f41"
      },
      "source": [
        "mask_model_stripped_params=parameter_count('mask_model_stripped',mask_model_stripped)"
      ],
      "execution_count": null,
      "outputs": [
        {
          "output_type": "stream",
          "text": [
            "\n",
            "In mask_model_stripped Number of nonzero parameters in each layer are: \n",
            "\n",
            "5018\n",
            "11469\n",
            "256\n",
            "448\n",
            "10\n",
            "\n",
            "Total number of trainable parameters = 17201\n",
            "\n"
          ],
          "name": "stdout"
        }
      ]
    },
    {
      "cell_type": "code",
      "metadata": {
        "id": "c5nU2HYGm2nG",
        "colab": {
          "base_uri": "https://localhost:8080/",
          "height": 51
        },
        "outputId": "6699fc6d-2693-4fb5-a05e-d3e6a57b74d3"
      },
      "source": [
        "#Sanity check, to see again the % of the 0 weights\n",
        "\n",
        "print(\"% of weights reduced = {0:.2f}%\\n\".format(((orig_model_stripped_params - mask_model_stripped_params-24458) / orig_model_stripped_params) * 100))"
      ],
      "execution_count": null,
      "outputs": [
        {
          "output_type": "stream",
          "text": [
            "% of weights reduced = -71.75%\n",
            "\n"
          ],
          "name": "stdout"
        }
      ]
    },
    {
      "cell_type": "code",
      "metadata": {
        "id": "wZ-mxeeCm2nP",
        "colab": {
          "base_uri": "https://localhost:8080/",
          "height": 34
        },
        "outputId": "b0adbdaf-122e-47be-b868-e637b7a53784"
      },
      "source": [
        "#sanity check for the masked model and prunned model\n",
        "#to check if the pruned weights actually set to zero\n",
        "\n",
        "mask_model_stripped.trainable_weights[1][0][:5]"
      ],
      "execution_count": null,
      "outputs": [
        {
          "output_type": "execute_result",
          "data": {
            "text/plain": [
              "<tf.Tensor: shape=(5,), dtype=float32, numpy=array([0., 1., 1., 1., 1.], dtype=float32)>"
            ]
          },
          "metadata": {
            "tags": []
          },
          "execution_count": 46
        }
      ]
    },
    {
      "cell_type": "code",
      "metadata": {
        "id": "xgPO4gWtm2nT",
        "colab": {
          "base_uri": "https://localhost:8080/",
          "height": 68
        },
        "outputId": "ad631692-bb6e-4010-e45c-14d4fb969fea"
      },
      "source": [
        "pruned_model_stripped.trainable_weights[1][0][:5]"
      ],
      "execution_count": null,
      "outputs": [
        {
          "output_type": "execute_result",
          "data": {
            "text/plain": [
              "<tf.Tensor: shape=(5,), dtype=float32, numpy=\n",
              "array([-0.        ,  0.47757655, -0.06546721, -0.13884573,  0.00121218],\n",
              "      dtype=float32)>"
            ]
          },
          "metadata": {
            "tags": []
          },
          "execution_count": 47
        }
      ]
    },
    {
      "cell_type": "markdown",
      "metadata": {
        "id": "28Mo1BIxm2nX"
      },
      "source": [
        "## 5: Train the network with initial weights and created mask to generate winning ticket\n",
        "\n",
        "We  will reset the remaining parameters in the pruned model to their values in  _Step - 1_ , to generate the winning ticket.\n",
        "\n",
        "We will leave other weights as zero\n"
      ]
    },
    {
      "cell_type": "code",
      "metadata": {
        "id": "oVVNxsAmm2nY",
        "colab": {
          "base_uri": "https://localhost:8080/",
          "height": 54
        },
        "outputId": "2d1758ac-2328-4872-90cf-c17577a40b9c"
      },
      "source": [
        "# Instantiate a new neural network model for which, the weights are to be extracted\n",
        "\n",
        "winning_ticket_model = pruned_nn(pruning_params_unpruned)"
      ],
      "execution_count": null,
      "outputs": [
        {
          "output_type": "stream",
          "text": [
            "WARNING:tensorflow:Layer lstm_3 will not use cuDNN kernel since it doesn't meet the cuDNN kernel criteria. It will use generic GPU kernel as fallback when running on GPU\n"
          ],
          "name": "stdout"
        }
      ]
    },
    {
      "cell_type": "code",
      "metadata": {
        "id": "1_3LYRojm2nb",
        "colab": {
          "base_uri": "https://localhost:8080/",
          "height": 34
        },
        "outputId": "9092b46b-4925-4597-b2ab-cb2a4de47db9"
      },
      "source": [
        "# Load weights of PRUNED model-\n",
        "\n",
        "winning_ticket_model.load_weights(\"ExpLSTM/MNIST_300_100_Weights_Pruned_with_pruning_params\")"
      ],
      "execution_count": null,
      "outputs": [
        {
          "output_type": "execute_result",
          "data": {
            "text/plain": [
              "<tensorflow.python.training.tracking.util.CheckpointLoadStatus at 0x7ff9cf6c6780>"
            ]
          },
          "metadata": {
            "tags": []
          },
          "execution_count": 49
        }
      ]
    },
    {
      "cell_type": "code",
      "metadata": {
        "id": "iTADVJUwm2nf"
      },
      "source": [
        "# Strip the model of its pruning parameters-\n",
        "\n",
        "winning_ticket_model_stripped = sparsity.strip_pruning(winning_ticket_model)"
      ],
      "execution_count": null,
      "outputs": []
    },
    {
      "cell_type": "code",
      "metadata": {
        "id": "JMwMMTBom2ni"
      },
      "source": [
        "# For each layer, for each weight which is 0, leave it, as is. And for weights which survive the pruning,\n",
        "# reinitialize it to the value, the model received BEFORE it was trained and pruned-\n",
        "\n",
        "\n",
        "for orig_wts, pruned_wts in zip(orig_model_stripped.trainable_weights, winning_ticket_model_stripped.trainable_weights):\n",
        "    pruned_wts.assign(tf.where(tf.equal(pruned_wts, 0), pruned_wts, orig_wts))"
      ],
      "execution_count": null,
      "outputs": []
    },
    {
      "cell_type": "markdown",
      "metadata": {
        "id": "3hJLjW1Fm2nk"
      },
      "source": [
        "### Sanity check\n",
        "\n",
        "To check of the winning tickets parameters are assigned with the original model and pruned model"
      ]
    },
    {
      "cell_type": "code",
      "metadata": {
        "id": "QlHJM-Yxm2nm",
        "colab": {
          "base_uri": "https://localhost:8080/"
        },
        "outputId": "3a4a20a1-7c5f-45c6-ed97-b1821f18a3c5"
      },
      "source": [
        "# Sanity check\n",
        "winning_ticket_model_stripped.trainable_weights[1][0][:5]"
      ],
      "execution_count": null,
      "outputs": [
        {
          "output_type": "execute_result",
          "data": {
            "text/plain": [
              "<tf.Tensor: shape=(5,), dtype=float32, numpy=\n",
              "array([-0.        ,  0.01175799, -0.06234023,  0.00456182,  0.08502214],\n",
              "      dtype=float32)>"
            ]
          },
          "metadata": {
            "tags": []
          },
          "execution_count": 52
        }
      ]
    },
    {
      "cell_type": "code",
      "metadata": {
        "id": "SIXF6NAum2no",
        "colab": {
          "base_uri": "https://localhost:8080/"
        },
        "outputId": "62234598-9910-4d13-9b8a-fc175b312c6a"
      },
      "source": [
        "#again sanity check with the original model\n",
        "\n",
        "orig_model_stripped.trainable_weights[1][0][:5]"
      ],
      "execution_count": null,
      "outputs": [
        {
          "output_type": "execute_result",
          "data": {
            "text/plain": [
              "<tf.Tensor: shape=(5,), dtype=float32, numpy=\n",
              "array([ 0.03803539,  0.01175799, -0.06234023,  0.00456182,  0.08502214],\n",
              "      dtype=float32)>"
            ]
          },
          "metadata": {
            "tags": []
          },
          "execution_count": 53
        }
      ]
    },
    {
      "cell_type": "code",
      "metadata": {
        "id": "HqgSI_fzm2ns",
        "colab": {
          "base_uri": "https://localhost:8080/"
        },
        "outputId": "111e2639-9144-4fa1-eec9-1f45575d406f"
      },
      "source": [
        "mask_model_stripped.trainable_weights[1][0][:5]"
      ],
      "execution_count": null,
      "outputs": [
        {
          "output_type": "execute_result",
          "data": {
            "text/plain": [
              "<tf.Tensor: shape=(5,), dtype=float32, numpy=array([0., 1., 1., 1., 1.], dtype=float32)>"
            ]
          },
          "metadata": {
            "tags": []
          },
          "execution_count": 54
        }
      ]
    },
    {
      "cell_type": "code",
      "metadata": {
        "id": "AU9zE6cIm2nu",
        "colab": {
          "base_uri": "https://localhost:8080/"
        },
        "outputId": "3e5d0093-9728-4cee-d5be-1b14b4b3f1d1"
      },
      "source": [
        "winning_ticket_stripped_params=parameter_count('winning_ticket_model_stripped',winning_ticket_model_stripped)"
      ],
      "execution_count": null,
      "outputs": [
        {
          "output_type": "stream",
          "text": [
            "\n",
            "In winning_ticket_model_stripped Number of nonzero parameters in each layer are: \n",
            "\n",
            "5018\n",
            "11469\n",
            "64\n",
            "448\n",
            "0\n",
            "\n",
            "Total number of trainable parameters = 16999\n",
            "\n"
          ],
          "name": "stdout"
        }
      ]
    },
    {
      "cell_type": "code",
      "metadata": {
        "id": "OvEUaluZm2nx",
        "colab": {
          "base_uri": "https://localhost:8080/"
        },
        "outputId": "d65c3eb6-615c-4d53-aa33-bd848e46fff0"
      },
      "source": [
        "# Sanity check:\n",
        "# again we are adding 410 for hidden units\n",
        "\n",
        "if winning_ticket_stripped_params+24458 != pruned_model_params:\n",
        "    print(\"\\nCritical Error! Number of parameters of winning ticket and pruned parameters do not match!\\n\")"
      ],
      "execution_count": null,
      "outputs": [
        {
          "output_type": "stream",
          "text": [
            "\n",
            "Critical Error! Number of parameters of winning ticket and pruned parameters do not match!\n",
            "\n"
          ],
          "name": "stdout"
        }
      ]
    },
    {
      "cell_type": "code",
      "metadata": {
        "id": "h-fP2Nljm2n2"
      },
      "source": [
        "# Save the weights (with pruning parameters) extracted to a file-\n",
        "\n",
        "winning_ticket_model_stripped.save_weights(\"ExpLSTM/MNIST_300_100_Winning_Ticket_One_Shot\", overwrite=True)"
      ],
      "execution_count": null,
      "outputs": []
    },
    {
      "cell_type": "markdown",
      "metadata": {
        "id": "yeESvDtHm2n4"
      },
      "source": [
        "## 6: Evaluating the resulting Network\n",
        "\n",
        "According to the paper, in order to identify a winning ticket:\n",
        "\n",
        "1. Winning ticket should achieve same or higher accuracy\n",
        "2. In same or lower epochs"
      ]
    },
    {
      "cell_type": "markdown",
      "metadata": {
        "id": "mu2OCyM5m2n5"
      },
      "source": [
        "## Using _GradientTape_ API:"
      ]
    },
    {
      "cell_type": "markdown",
      "metadata": {
        "id": "tJfMTaW9m2n6"
      },
      "source": [
        "### Train _winning ticket_ model to observe it's convergence"
      ]
    },
    {
      "cell_type": "code",
      "metadata": {
        "id": "NHBXLLtSm2n9",
        "colab": {
          "base_uri": "https://localhost:8080/",
          "height": 54
        },
        "outputId": "f4a98b9a-2203-4441-b4e2-ef43627c5565"
      },
      "source": [
        "#Instantiate a model-\n",
        "model_gt = pruned_nn(pruning_params_unpruned)"
      ],
      "execution_count": null,
      "outputs": [
        {
          "output_type": "stream",
          "text": [
            "WARNING:tensorflow:Layer lstm_4 will not use cuDNN kernel since it doesn't meet the cuDNN kernel criteria. It will use generic GPU kernel as fallback when running on GPU\n"
          ],
          "name": "stdout"
        }
      ]
    },
    {
      "cell_type": "code",
      "metadata": {
        "id": "6CYcZz--m2oA"
      },
      "source": [
        "model_gt_stripped=sparsity.strip_pruning(model_gt)"
      ],
      "execution_count": null,
      "outputs": []
    },
    {
      "cell_type": "code",
      "metadata": {
        "id": "py8vGgasm2oD",
        "colab": {
          "base_uri": "https://localhost:8080/",
          "height": 34
        },
        "outputId": "20c13b07-29f8-473d-ab3f-ea7bf5585902"
      },
      "source": [
        "# Load weights of winning ticket-\n",
        "model_gt_stripped.load_weights(\"ExpLSTM/MNIST_300_100_Winning_Ticket_One_Shot\")"
      ],
      "execution_count": null,
      "outputs": [
        {
          "output_type": "execute_result",
          "data": {
            "text/plain": [
              "<tensorflow.python.training.tracking.util.CheckpointLoadStatus at 0x7ff9cf44cba8>"
            ]
          },
          "metadata": {
            "tags": []
          },
          "execution_count": 60
        }
      ]
    },
    {
      "cell_type": "code",
      "metadata": {
        "id": "DYjA1nsDm2oK",
        "colab": {
          "base_uri": "https://localhost:8080/",
          "height": 221
        },
        "outputId": "3f8782cc-9172-4be0-f8bd-30fc670d75a3"
      },
      "source": [
        "model_gt.summary()"
      ],
      "execution_count": null,
      "outputs": [
        {
          "output_type": "stream",
          "text": [
            "Model: \"sequential_4\"\n",
            "_________________________________________________________________\n",
            "Layer (type)                 Output Shape              Param #   \n",
            "=================================================================\n",
            "prune_low_magnitude_lstm_4 ( (None, 64)                47363     \n",
            "_________________________________________________________________\n",
            "prune_low_magnitude_dense_4  (None, 10)                1292      \n",
            "=================================================================\n",
            "Total params: 48,655\n",
            "Trainable params: 24,458\n",
            "Non-trainable params: 24,197\n",
            "_________________________________________________________________\n"
          ],
          "name": "stdout"
        }
      ]
    },
    {
      "cell_type": "code",
      "metadata": {
        "id": "dDUFKiY6m2oP",
        "colab": {
          "base_uri": "https://localhost:8080/",
          "height": 221
        },
        "outputId": "2515ab11-0055-4b9f-a60e-b74dab7fb760"
      },
      "source": [
        "model_gt_stripped.summary()"
      ],
      "execution_count": null,
      "outputs": [
        {
          "output_type": "stream",
          "text": [
            "Model: \"sequential_4\"\n",
            "_________________________________________________________________\n",
            "Layer (type)                 Output Shape              Param #   \n",
            "=================================================================\n",
            "lstm_4 (LSTM)                (None, 64)                23808     \n",
            "_________________________________________________________________\n",
            "dense_4 (Dense)              (None, 10)                650       \n",
            "=================================================================\n",
            "Total params: 24,458\n",
            "Trainable params: 24,458\n",
            "Non-trainable params: 0\n",
            "_________________________________________________________________\n"
          ],
          "name": "stdout"
        }
      ]
    },
    {
      "cell_type": "markdown",
      "metadata": {
        "id": "TLJzvsQdm2oS"
      },
      "source": [
        "### Sanity check to compare the weights of winning ticket"
      ]
    },
    {
      "cell_type": "code",
      "metadata": {
        "id": "LxX1-uGlm2oT",
        "colab": {
          "base_uri": "https://localhost:8080/"
        },
        "outputId": "4d401081-ce8b-4e87-dbbb-52436fa37966"
      },
      "source": [
        "#sanity check to compare with the winning ticket weights\n",
        "model_gt_stripped.trainable_weights[1][0][:5]"
      ],
      "execution_count": null,
      "outputs": [
        {
          "output_type": "execute_result",
          "data": {
            "text/plain": [
              "<tf.Tensor: shape=(5,), dtype=float32, numpy=\n",
              "array([-0.        ,  0.01175799, -0.06234023,  0.00456182,  0.08502214],\n",
              "      dtype=float32)>"
            ]
          },
          "metadata": {
            "tags": []
          },
          "execution_count": 63
        }
      ]
    },
    {
      "cell_type": "code",
      "metadata": {
        "id": "tniqLqAxm2oV",
        "colab": {
          "base_uri": "https://localhost:8080/"
        },
        "outputId": "eae9857b-b39c-49ed-8115-509228838e4b"
      },
      "source": [
        "winning_ticket_model_stripped.trainable_weights[1][0][:5]"
      ],
      "execution_count": null,
      "outputs": [
        {
          "output_type": "execute_result",
          "data": {
            "text/plain": [
              "<tf.Tensor: shape=(5,), dtype=float32, numpy=\n",
              "array([-0.        ,  0.01175799, -0.06234023,  0.00456182,  0.08502214],\n",
              "      dtype=float32)>"
            ]
          },
          "metadata": {
            "tags": []
          },
          "execution_count": 64
        }
      ]
    },
    {
      "cell_type": "code",
      "metadata": {
        "id": "i-sCFy6am2oX"
      },
      "source": [
        "# Create training and testing datasets for Tensorflow\n",
        "train_dataset = tf.data.Dataset.from_tensor_slices((x_train, y_train))\n",
        "test_dataset = tf.data.Dataset.from_tensor_slices((x_test, y_test))\n",
        "\n",
        "train_dataset = train_dataset.shuffle(buffer_size = 20000, reshuffle_each_iteration = True).batch(batch_size = 32, drop_remainder = False)\n",
        "\n",
        "test_dataset = test_dataset.batch(batch_size=32, drop_remainder=False)"
      ],
      "execution_count": null,
      "outputs": []
    },
    {
      "cell_type": "code",
      "metadata": {
        "id": "6AAOR8f3m2od"
      },
      "source": [
        "# Choose an optimizer and loss function for training-\n",
        "loss_fn = tf.keras.losses.sparse_categorical_crossentropy\n",
        "optimizer = tf.keras.optimizers.Adam()"
      ],
      "execution_count": null,
      "outputs": []
    },
    {
      "cell_type": "code",
      "metadata": {
        "id": "FZC-iiCCm2oh"
      },
      "source": [
        "# Select metrics to measure the error & accuracy of model.\n",
        "# These metrics accumulate the values over epochs and then\n",
        "# print the overall result-\n",
        "train_loss = tf.keras.metrics.Mean(name = 'train_loss')\n",
        "train_accuracy = tf.keras.metrics.SparseCategoricalAccuracy(name = 'train_accuracy')\n",
        "\n",
        "test_loss = tf.keras.metrics.Mean(name = 'test_loss')\n",
        "test_accuracy = tf.keras.metrics.SparseCategoricalAccuracy(name = 'test_accuracy')"
      ],
      "execution_count": null,
      "outputs": []
    },
    {
      "cell_type": "markdown",
      "metadata": {
        "id": "QTUlJ3O_m2om"
      },
      "source": [
        "### Identifying the training and test step"
      ]
    },
    {
      "cell_type": "code",
      "metadata": {
        "id": "f3IYDv9ym2on"
      },
      "source": [
        "@tf.function\n",
        "def train_one_step(model, mask_model, optimizer, x, y):\n",
        "    '''\n",
        "    def train_step(data, labels):\n",
        "    Function to compute one step of gradient descent optimization\n",
        "    '''\n",
        "    with tf.GradientTape() as tape:\n",
        "        # Make predictions using defined model-\n",
        "        y_pred = model(x)\n",
        "\n",
        "        # Compute loss-\n",
        "        loss = loss_fn(y, y_pred)\n",
        "        \n",
        "    # Compute gradients wrt defined loss and weights and biases-\n",
        "    grads = tape.gradient(loss, model.trainable_variables)\n",
        "    \n",
        "    # type(grads)\n",
        "    # list\n",
        "    \n",
        "    '''\n",
        "    for orig_grads, mask in zip(grads, mask_model_stripped.trainable_weights):\n",
        "        # orig_grads.assign(tf.math.multiply(orig_grads, mask))\n",
        "        orig_grads = tf.math.multiply(orig_grads, mask)\n",
        "    '''\n",
        "    \n",
        "    # THIS IS CORRECT-\n",
        "    # List to hold element-wise multiplication between-\n",
        "    # computed gradient and masks-\n",
        "    grad_mask_mul = []\n",
        "    \n",
        "    # Perform element-wise multiplication between computed gradients and masks-\n",
        "    for grad_layer, mask in zip(grads, mask_model.trainable_weights):\n",
        "        grad_mask_mul.append(tf.math.multiply(grad_layer, mask))\n",
        "    \n",
        "    # Apply computed gradients to model's weights and biases-\n",
        "    # optimizer.apply_gradients(zip(grads, model.trainable_variables))\n",
        "    # normally we just apply the grads but here we use masked grads\n",
        "    optimizer.apply_gradients(zip(grad_mask_mul, model.trainable_variables))\n",
        "\n",
        "    # Compute accuracy-\n",
        "    train_loss(loss)\n",
        "    train_accuracy(y, y_pred)\n",
        "\n",
        "    # return model_loss\n",
        "    # return None\n"
      ],
      "execution_count": null,
      "outputs": []
    },
    {
      "cell_type": "code",
      "metadata": {
        "id": "7HvrBS6Mm2pF"
      },
      "source": [
        "@tf.function\n",
        "def test_step(model, optimizer, data, labels):\n",
        "    \"\"\"\n",
        "    Function to test model performance\n",
        "    on testing dataset\n",
        "    \"\"\"\n",
        "    \n",
        "    predictions = model(data)\n",
        "    t_loss = loss_fn(labels, predictions)\n",
        "\n",
        "    test_loss(t_loss)\n",
        "    test_accuracy(labels, predictions)\n"
      ],
      "execution_count": null,
      "outputs": []
    },
    {
      "cell_type": "markdown",
      "metadata": {
        "id": "I_IMBhhym2pI"
      },
      "source": [
        "### Provide parameters for _EarlyStopping_\n",
        "\n",
        "The parameters should be same with the original model"
      ]
    },
    {
      "cell_type": "code",
      "metadata": {
        "id": "nAtd2fkYm2pJ"
      },
      "source": [
        "minimum_delta = 0.001\n",
        "patience = 3\n",
        "\n",
        "patience_val = np.zeros(patience)"
      ],
      "execution_count": null,
      "outputs": []
    },
    {
      "cell_type": "code",
      "metadata": {
        "id": "QYaW-Vuim2pM"
      },
      "source": [
        "# Dictionary to hold scalar metrics-\n",
        "history_winning = {}\n",
        "\n",
        "history_winning['accuracy'] = np.zeros(10)\n",
        "history_winning['val_accuracy'] = np.zeros(10)\n",
        "history_winning['loss'] = np.zeros(10)\n",
        "history_winning['val_loss'] = np.zeros(10)"
      ],
      "execution_count": null,
      "outputs": []
    },
    {
      "cell_type": "code",
      "metadata": {
        "id": "EgtZCxWYm2pP",
        "colab": {
          "base_uri": "https://localhost:8080/",
          "height": 561
        },
        "outputId": "aaea9aef-ca2d-40d6-cf77-00ced8256e4d"
      },
      "source": [
        "#min_loss and patience_sofar is the variables to manually enable early stopping  \n",
        "min_loss=10\n",
        "patience_sofar=0\n",
        "\n",
        "for epoch in range(10):\n",
        "    \n",
        "    #to stop training when earlystopping criterion met\n",
        "    if patience_sofar >= patience:\n",
        "        print(\"\\n\\nEarlyStopping Evoked! Stopping training\\n\\n\")\n",
        "        break\n",
        "    \n",
        "    # Reset the metrics at the start of the next epoch\n",
        "    train_loss.reset_states()\n",
        "    train_accuracy.reset_states()\n",
        "    test_loss.reset_states()\n",
        "    test_accuracy.reset_states()\n",
        "\n",
        "    for x, y in train_dataset:\n",
        "        train_one_step(model_gt_stripped, mask_model_stripped, optimizer, x, y)\n",
        "        \n",
        "\n",
        "    for x_t, y_t in test_dataset:\n",
        "        \n",
        "        test_step(model_gt_stripped, optimizer, x_t, y_t)\n",
        "\n",
        "    template = 'Epoch {0}, Loss: {1:.4f}, Accuracy: {2:.4f}, Test Loss: {3:.4f}, Test Accuracy: {4:4f}'\n",
        "\n",
        "    history_winning['accuracy'][epoch] = train_accuracy.result()\n",
        "    history_winning['loss'][epoch] = train_loss.result()\n",
        "    history_winning['val_loss'][epoch] = test_loss.result()\n",
        "    history_winning['val_accuracy'][epoch] = test_accuracy.result()\n",
        "\n",
        "    print(template.format(epoch + 1, \n",
        "                          train_loss.result(), train_accuracy.result()*100,\n",
        "                          test_loss.result(), test_accuracy.result()*100))\n",
        "    \n",
        "    # Count number of non-zero parameters in each layer and in total-\n",
        "\n",
        "    model_sum_params = 0\n",
        "    \n",
        "    for layer in model_gt_stripped.trainable_weights:\n",
        "        \n",
        "        model_sum_params += tf.math.count_nonzero(layer, axis = None).numpy()\n",
        "    \n",
        "    print(\"Total number of trainable parameters = {0}\\n\".format(model_sum_params))\n",
        "\n",
        "    #for computing the early stopping manually\n",
        "    \n",
        "    if (min_loss-history_winning['val_loss'][epoch])>minimum_delta:\n",
        "        min_loss=history_winning['val_loss'][epoch]\n",
        "    else:\n",
        "        patience_sofar+=1\n",
        "    \n",
        "            "
      ],
      "execution_count": null,
      "outputs": [
        {
          "output_type": "stream",
          "text": [
            "Epoch 1, Loss: 0.4022, Accuracy: 87.2533, Test Loss: 0.1367, Test Accuracy: 95.650002\n",
            "Total number of trainable parameters = 17201\n",
            "\n",
            "Epoch 2, Loss: 0.1276, Accuracy: 96.1350, Test Loss: 0.0802, Test Accuracy: 97.570000\n",
            "Total number of trainable parameters = 17201\n",
            "\n",
            "Epoch 3, Loss: 0.0917, Accuracy: 97.1567, Test Loss: 0.0787, Test Accuracy: 97.389999\n",
            "Total number of trainable parameters = 17201\n",
            "\n",
            "Epoch 4, Loss: 0.0735, Accuracy: 97.7017, Test Loss: 0.0659, Test Accuracy: 97.820000\n",
            "Total number of trainable parameters = 17201\n",
            "\n",
            "Epoch 5, Loss: 0.0618, Accuracy: 98.1267, Test Loss: 0.0685, Test Accuracy: 97.860001\n",
            "Total number of trainable parameters = 17201\n",
            "\n",
            "Epoch 6, Loss: 0.0521, Accuracy: 98.3667, Test Loss: 0.0532, Test Accuracy: 98.239998\n",
            "Total number of trainable parameters = 17201\n",
            "\n",
            "Epoch 7, Loss: 0.0454, Accuracy: 98.6483, Test Loss: 0.0673, Test Accuracy: 97.759995\n",
            "Total number of trainable parameters = 17201\n",
            "\n",
            "Epoch 8, Loss: 0.0422, Accuracy: 98.6950, Test Loss: 0.0511, Test Accuracy: 98.379997\n",
            "Total number of trainable parameters = 17201\n",
            "\n",
            "Epoch 9, Loss: 0.0369, Accuracy: 98.8600, Test Loss: 0.0523, Test Accuracy: 98.199997\n",
            "Total number of trainable parameters = 17201\n",
            "\n",
            "\n",
            "\n",
            "EarlyStopping Evoked! Stopping training\n",
            "\n",
            "\n"
          ],
          "name": "stdout"
        }
      ]
    },
    {
      "cell_type": "code",
      "metadata": {
        "id": "ukAdY2VZm2pV",
        "colab": {
          "base_uri": "https://localhost:8080/",
          "height": 34
        },
        "outputId": "2ddde991-78a7-418b-b466-e6f3af4623e8"
      },
      "source": [
        "#test accuracy of pruned model\n",
        "\n",
        "score_pruned_model[1]"
      ],
      "execution_count": null,
      "outputs": [
        {
          "output_type": "execute_result",
          "data": {
            "text/plain": [
              "0.9865999817848206"
            ]
          },
          "metadata": {
            "tags": []
          },
          "execution_count": 73
        }
      ]
    },
    {
      "cell_type": "code",
      "metadata": {
        "id": "JsjJ0TPym2pa",
        "colab": {
          "base_uri": "https://localhost:8080/",
          "height": 34
        },
        "outputId": "024e1978-e481-4730-fb52-c95010add16e"
      },
      "source": [
        "#test accuracy of winning ticket\n",
        "\n",
        "test_accuracy.reset_states()\n",
        "test_step(model_gt_stripped,optimizer,x_test,y_test)\n",
        "score_winning=test_accuracy.result()\n",
        "print(score_winning)"
      ],
      "execution_count": null,
      "outputs": [
        {
          "output_type": "stream",
          "text": [
            "tf.Tensor(0.982, shape=(), dtype=float32)\n"
          ],
          "name": "stdout"
        }
      ]
    },
    {
      "cell_type": "code",
      "metadata": {
        "id": "GKOd5DICm2pc",
        "colab": {
          "base_uri": "https://localhost:8080/",
          "height": 34
        },
        "outputId": "3a7567b8-34aa-4d4c-a801-44daacb7e9e6"
      },
      "source": [
        "#test accuracy of orig model\n",
        "\n",
        "score_orig_model[1]"
      ],
      "execution_count": null,
      "outputs": [
        {
          "output_type": "execute_result",
          "data": {
            "text/plain": [
              "0.9807000160217285"
            ]
          },
          "metadata": {
            "tags": []
          },
          "execution_count": 75
        }
      ]
    },
    {
      "cell_type": "code",
      "metadata": {
        "id": "MpyY1I0Im2ph"
      },
      "source": [
        "#to clear the zero values from dictionary to have better visualization\n",
        "\n",
        "for k,v in history_winning.items():\n",
        "    history_winning[k]=np.where(v==0,np.nan,v)"
      ],
      "execution_count": null,
      "outputs": []
    },
    {
      "cell_type": "code",
      "metadata": {
        "id": "CA2kbToBm2pk",
        "colab": {
          "base_uri": "https://localhost:8080/",
          "height": 1000
        },
        "outputId": "27da613b-03f8-4804-b0b1-863bb8f436b5"
      },
      "source": [
        "# Visualize neural network which is to be pruned off-\n",
        "fig=plt.figure(figsize=(10, 9), dpi= 80, facecolor='w', edgecolor='k')\n",
        "\n",
        "plt.plot(history_winning['loss'], label = 'wt training loss')\n",
        "plt.plot(history_winning['val_loss'], label = 'wt testing loss')\n",
        "plt.plot(history_orig.history['loss'], label = 'orig training loss')\n",
        "plt.plot(history_orig.history['val_loss'], label = 'orig testing loss')\n",
        "\n",
        "plt.title(\"MNIST LSTM model - WINNING TICKET vs ORIG MODEL training visualization - LOSS\")\n",
        "plt.ylabel(\"Loss\")\n",
        "plt.xlabel(\"number of epochs\")\n",
        "plt.legend(loc = 'best')\n",
        "plt.show()\n",
        "\n",
        "fig=plt.figure(figsize=(10, 9), dpi= 80, facecolor='w', edgecolor='k')\n",
        "\n",
        "plt.plot(history_winning['accuracy'], label = 'wt training accuracy')\n",
        "plt.plot(history_winning['val_accuracy'], label = 'wt testing accuracy')\n",
        "plt.plot(history_orig.history['accuracy'], label = 'orig training accuracy')\n",
        "plt.plot(history_orig.history['val_accuracy'], label = 'orig testing accuracy')\n",
        "\n",
        "plt.title(\"MNIST LSTM model - WINNING TICKET vs ORIG MODEL training visualization - ACCURACY\")\n",
        "plt.ylabel(\"Accuracy\")\n",
        "plt.xlabel(\"number of epochs\")\n",
        "plt.legend(loc = 'best')\n",
        "plt.show()"
      ],
      "execution_count": null,
      "outputs": [
        {
          "output_type": "display_data",
          "data": {
            "image/png": "[encoded data removed]",
            "text/plain": [
              "<Figure size 800x720 with 1 Axes>"
            ]
          },
          "metadata": {
            "tags": []
          }
        },
        {
          "output_type": "display_data",
          "data": {
            "image/png": "[encoded data removed]",
            "text/plain": [
              "<Figure size 800x720 with 1 Axes>"
            ]
          },
          "metadata": {
            "tags": []
          }
        }
      ]
    },
    {
      "cell_type": "markdown",
      "metadata": {
        "id": "Do8bWs6Xm2pn"
      },
      "source": [
        "## RESULT\n",
        "\n",
        "##### THIS IS ACTUALLY A WINNING TICKET SINCE IT HAS HIGHER ACCURACY IN EARLIER EPOCH!!"
      ]
    },
    {
      "cell_type": "markdown",
      "metadata": {
        "id": "JuYkNazIm2po"
      },
      "source": [
        "#### More Sanity Checks Below"
      ]
    },
    {
      "cell_type": "code",
      "metadata": {
        "id": "4HArx8GAm2pv"
      },
      "source": [
        "# Save weights of Winning Ticket (One Shot) trained with GradientTape WITHOUT pruning parameters-\n",
        "model_gt_stripped.save_weights(\"ExpLSTM/MNIST_300_100_Winning_Ticket_Trained_GradientTape\", overwrite=True)"
      ],
      "execution_count": null,
      "outputs": []
    },
    {
      "cell_type": "code",
      "metadata": {
        "id": "xMS6hz5Lm2p0"
      },
      "source": [
        "# Save weights of Winning Ticket (One Shot) trained with GradientTape WITH pruning parameters-\n",
        "model_gt.save_weights(\"ExpLSTM/MNIST_300_100_Winning_Ticket_Trained_GradientTape_Pruning_Parameters\", overwrite=True)"
      ],
      "execution_count": null,
      "outputs": []
    },
    {
      "cell_type": "code",
      "metadata": {
        "id": "V3-EajlEm2p2",
        "colab": {
          "base_uri": "https://localhost:8080/",
          "height": 102
        },
        "outputId": "55cf5429-c434-41a9-e0ce-35731c3143ae"
      },
      "source": [
        "# GradientTape model WITH pruning parameters-\n",
        "for layer in model_gt.trainable_variables:\n",
        "    print(layer.shape)"
      ],
      "execution_count": null,
      "outputs": [
        {
          "output_type": "stream",
          "text": [
            "(28, 256)\n",
            "(64, 256)\n",
            "(256,)\n",
            "(64, 10)\n",
            "(10,)\n"
          ],
          "name": "stdout"
        }
      ]
    },
    {
      "cell_type": "code",
      "metadata": {
        "id": "A5aPXhJzm2p4",
        "colab": {
          "base_uri": "https://localhost:8080/",
          "height": 153
        },
        "outputId": "fdfd5450-2e5a-44c7-cb8c-c9cc915429f8"
      },
      "source": [
        "print(\"\\nCheck whether weights between 'model_gt' and 'model_gt_stripped' for all layers are same:\\n\")\n",
        "\n",
        "for winning_tkt, winning_tkt_pruned in zip(model_gt.trainable_variables, model_gt_stripped.trainable_variables):\n",
        "    print(np.all(winning_tkt == winning_tkt_pruned))"
      ],
      "execution_count": null,
      "outputs": [
        {
          "output_type": "stream",
          "text": [
            "\n",
            "Check whether weights between 'model_gt' and 'model_gt_stripped' for all layers are same:\n",
            "\n",
            "True\n",
            "True\n",
            "True\n",
            "True\n",
            "True\n"
          ],
          "name": "stdout"
        }
      ]
    },
    {
      "cell_type": "markdown",
      "metadata": {
        "id": "rKOafjTxm2p7"
      },
      "source": [
        "## Additional Experiments\n",
        "\n",
        "### 7. Random Initial Weights with proper mask\n",
        "\n",
        "Here we will make experiment to see whether the initial weights are the important factor, as claimed in the paper. "
      ]
    },
    {
      "cell_type": "code",
      "metadata": {
        "id": "FEI_1aIom2p7",
        "colab": {
          "base_uri": "https://localhost:8080/",
          "height": 54
        },
        "outputId": "37d56b59-4f9c-4268-a83e-6be69a23e409"
      },
      "source": [
        "# Instantiate a new neural network model for which, the weights are to be extracted\n",
        "\n",
        "winning_ticket_model_random_w = pruned_nn(pruning_params_unpruned)"
      ],
      "execution_count": null,
      "outputs": [
        {
          "output_type": "stream",
          "text": [
            "WARNING:tensorflow:Layer lstm_5 will not use cuDNN kernel since it doesn't meet the cuDNN kernel criteria. It will use generic GPU kernel as fallback when running on GPU\n"
          ],
          "name": "stdout"
        }
      ]
    },
    {
      "cell_type": "code",
      "metadata": {
        "id": "DqK2ESlLm2p-",
        "colab": {
          "base_uri": "https://localhost:8080/",
          "height": 34
        },
        "outputId": "d326cf95-198a-43f2-adf9-1b8f86267f36"
      },
      "source": [
        "# Load weights of PRUNED model-\n",
        "\n",
        "winning_ticket_model_random_w.load_weights(\"ExpLSTM/MNIST_300_100_Weights_Pruned_with_pruning_params\")"
      ],
      "execution_count": null,
      "outputs": [
        {
          "output_type": "execute_result",
          "data": {
            "text/plain": [
              "<tensorflow.python.training.tracking.util.CheckpointLoadStatus at 0x7ff9cf12f860>"
            ]
          },
          "metadata": {
            "tags": []
          },
          "execution_count": 83
        }
      ]
    },
    {
      "cell_type": "code",
      "metadata": {
        "id": "ZSeXMB4wm2qC"
      },
      "source": [
        "# Strip the model of its pruning parameters-\n",
        "\n",
        "winning_ticket_model_random_w_stripped = sparsity.strip_pruning(winning_ticket_model_random_w)"
      ],
      "execution_count": null,
      "outputs": []
    },
    {
      "cell_type": "code",
      "metadata": {
        "id": "hFMcuvO-m2qG",
        "colab": {
          "base_uri": "https://localhost:8080/",
          "height": 54
        },
        "outputId": "b1e8a553-0fb2-4ad8-e989-d8416e76e24e"
      },
      "source": [
        "# Here we will just initiate a random model to use its weights\n",
        "\n",
        "random_model=pruned_nn(pruning_params_unpruned)\n",
        "random_model_stripped=sparsity.strip_pruning(random_model)"
      ],
      "execution_count": null,
      "outputs": [
        {
          "output_type": "stream",
          "text": [
            "WARNING:tensorflow:Layer lstm_6 will not use cuDNN kernel since it doesn't meet the cuDNN kernel criteria. It will use generic GPU kernel as fallback when running on GPU\n"
          ],
          "name": "stdout"
        }
      ]
    },
    {
      "cell_type": "code",
      "metadata": {
        "id": "gLK5r5jnm2qI"
      },
      "source": [
        "# For each layer, for each weight which is 0, leave it, as is. And for weights which survive the pruning,\n",
        "# reinitialize it to the value, the model received BEFORE it was trained and pruned-\n",
        "\n",
        "\n",
        "for rand_wts, pruned_wts in zip(random_model_stripped.trainable_weights, winning_ticket_model_random_w_stripped.trainable_weights):\n",
        "    pruned_wts.assign(tf.where(tf.equal(pruned_wts, 0), pruned_wts, rand_wts))"
      ],
      "execution_count": null,
      "outputs": []
    },
    {
      "cell_type": "markdown",
      "metadata": {
        "id": "SKpZIrQUm2qL"
      },
      "source": [
        "### Sanity check\n",
        "\n",
        "To check of the winning tickets parameters are assigned with the random model and pruned model"
      ]
    },
    {
      "cell_type": "code",
      "metadata": {
        "id": "wcswmgo0m2qL",
        "colab": {
          "base_uri": "https://localhost:8080/",
          "height": 68
        },
        "outputId": "43e90cda-a9c7-4342-a39a-21905522ed46"
      },
      "source": [
        "# Sanity check\n",
        "winning_ticket_model_random_w_stripped.trainable_weights[1][0][:5]"
      ],
      "execution_count": null,
      "outputs": [
        {
          "output_type": "execute_result",
          "data": {
            "text/plain": [
              "<tf.Tensor: shape=(5,), dtype=float32, numpy=\n",
              "array([-0.        ,  0.03403859,  0.02815538,  0.04345867,  0.02383812],\n",
              "      dtype=float32)>"
            ]
          },
          "metadata": {
            "tags": []
          },
          "execution_count": 87
        }
      ]
    },
    {
      "cell_type": "code",
      "metadata": {
        "id": "U-9Z8c0wm2qM",
        "colab": {
          "base_uri": "https://localhost:8080/",
          "height": 68
        },
        "outputId": "44a4b272-a8d7-48df-eb7e-590137a6bae3"
      },
      "source": [
        "#again sanity check with the original model\n",
        "\n",
        "random_model_stripped.trainable_weights[1][0][:5]"
      ],
      "execution_count": null,
      "outputs": [
        {
          "output_type": "execute_result",
          "data": {
            "text/plain": [
              "<tf.Tensor: shape=(5,), dtype=float32, numpy=\n",
              "array([-0.07079697,  0.03403859,  0.02815538,  0.04345867,  0.02383812],\n",
              "      dtype=float32)>"
            ]
          },
          "metadata": {
            "tags": []
          },
          "execution_count": 88
        }
      ]
    },
    {
      "cell_type": "code",
      "metadata": {
        "id": "kUsXHfyMm2qT",
        "colab": {
          "base_uri": "https://localhost:8080/",
          "height": 34
        },
        "outputId": "ae248cbc-babd-453f-a6a8-560e34fbfa48"
      },
      "source": [
        "mask_model_stripped.trainable_weights[1][0][:5]"
      ],
      "execution_count": null,
      "outputs": [
        {
          "output_type": "execute_result",
          "data": {
            "text/plain": [
              "<tf.Tensor: shape=(5,), dtype=float32, numpy=array([0., 1., 1., 1., 1.], dtype=float32)>"
            ]
          },
          "metadata": {
            "tags": []
          },
          "execution_count": 89
        }
      ]
    },
    {
      "cell_type": "code",
      "metadata": {
        "id": "cXLyyullm2qW"
      },
      "source": [
        "# Save the weights (with pruning parameters) extracted to a file-\n",
        "\n",
        "winning_ticket_model_random_w_stripped.save_weights(\"ExpLSTM/MNIST_300_100_Winning_Ticket_Rand_W_One_Shot\", overwrite=True)"
      ],
      "execution_count": null,
      "outputs": []
    },
    {
      "cell_type": "code",
      "metadata": {
        "id": "2DKKlep3m2qY",
        "colab": {
          "base_uri": "https://localhost:8080/",
          "height": 54
        },
        "outputId": "6810b736-6388-46ae-ae4f-e6bd280e6bcc"
      },
      "source": [
        "#Instantiate a model-\n",
        "model_gt_random_w = pruned_nn(pruning_params_unpruned)"
      ],
      "execution_count": null,
      "outputs": [
        {
          "output_type": "stream",
          "text": [
            "WARNING:tensorflow:Layer lstm_7 will not use cuDNN kernel since it doesn't meet the cuDNN kernel criteria. It will use generic GPU kernel as fallback when running on GPU\n"
          ],
          "name": "stdout"
        }
      ]
    },
    {
      "cell_type": "code",
      "metadata": {
        "id": "kqheOT0Fm2qa"
      },
      "source": [
        "model_gt_random_w_stripped=sparsity.strip_pruning(model_gt_random_w)"
      ],
      "execution_count": null,
      "outputs": []
    },
    {
      "cell_type": "code",
      "metadata": {
        "id": "5aphbTWam2qb",
        "colab": {
          "base_uri": "https://localhost:8080/",
          "height": 34
        },
        "outputId": "5ac94c1a-50f3-4751-c599-5908afa2b494"
      },
      "source": [
        "# Load weights of winning ticket-\n",
        "model_gt_random_w_stripped.load_weights(\"ExpLSTM/MNIST_300_100_Winning_Ticket_Rand_W_One_Shot\")"
      ],
      "execution_count": null,
      "outputs": [
        {
          "output_type": "execute_result",
          "data": {
            "text/plain": [
              "<tensorflow.python.training.tracking.util.CheckpointLoadStatus at 0x7ff9e603d438>"
            ]
          },
          "metadata": {
            "tags": []
          },
          "execution_count": 93
        }
      ]
    },
    {
      "cell_type": "code",
      "metadata": {
        "id": "4kDLwQ3rm2qd",
        "colab": {
          "base_uri": "https://localhost:8080/",
          "height": 68
        },
        "outputId": "c8d22f0c-aad2-4f4b-ea48-00b8dff90ba8"
      },
      "source": [
        "#sanity check for weights\n",
        "\n",
        "model_gt_random_w_stripped.trainable_weights[1][0][:5]"
      ],
      "execution_count": null,
      "outputs": [
        {
          "output_type": "execute_result",
          "data": {
            "text/plain": [
              "<tf.Tensor: shape=(5,), dtype=float32, numpy=\n",
              "array([-0.        ,  0.03403859,  0.02815538,  0.04345867,  0.02383812],\n",
              "      dtype=float32)>"
            ]
          },
          "metadata": {
            "tags": []
          },
          "execution_count": 94
        }
      ]
    },
    {
      "cell_type": "code",
      "metadata": {
        "id": "6S5sox8sm2qg",
        "colab": {
          "base_uri": "https://localhost:8080/",
          "height": 68
        },
        "outputId": "08e30e72-e8f8-4fe1-e789-2f60cd25f2bd"
      },
      "source": [
        "winning_ticket_model_random_w_stripped.trainable_weights[1][0][:5]"
      ],
      "execution_count": null,
      "outputs": [
        {
          "output_type": "execute_result",
          "data": {
            "text/plain": [
              "<tf.Tensor: shape=(5,), dtype=float32, numpy=\n",
              "array([-0.        ,  0.03403859,  0.02815538,  0.04345867,  0.02383812],\n",
              "      dtype=float32)>"
            ]
          },
          "metadata": {
            "tags": []
          },
          "execution_count": 95
        }
      ]
    },
    {
      "cell_type": "code",
      "metadata": {
        "id": "4WtlqCrYm2qi"
      },
      "source": [
        "# Dictionary to hold scalar metrics-\n",
        "epochs=10\n",
        "history_winning_random_w = {}\n",
        "\n",
        "history_winning_random_w['accuracy'] = np.zeros(epochs)\n",
        "history_winning_random_w['val_accuracy'] = np.zeros(epochs)\n",
        "history_winning_random_w['loss'] = np.zeros(epochs)\n",
        "history_winning_random_w['val_loss'] = np.zeros(epochs)"
      ],
      "execution_count": null,
      "outputs": []
    },
    {
      "cell_type": "markdown",
      "metadata": {
        "id": "WA1DYMYwm2ql"
      },
      "source": [
        "## Here I will define the tf.functions again, because otherwise it does not work due to bug"
      ]
    },
    {
      "cell_type": "code",
      "metadata": {
        "id": "3fqr3BWIm2qo"
      },
      "source": [
        "@tf.function\n",
        "def train_one_step(model, mask_model, optimizer, x, y):\n",
        "    '''\n",
        "    def train_step(data, labels):\n",
        "    Function to compute one step of gradient descent optimization\n",
        "    '''\n",
        "    with tf.GradientTape() as tape:\n",
        "        # Make predictions using defined model-\n",
        "        y_pred = model(x)\n",
        "\n",
        "        # Compute loss-\n",
        "        loss = loss_fn(y, y_pred)\n",
        "        \n",
        "    # Compute gradients wrt defined loss and weights and biases-\n",
        "    grads = tape.gradient(loss, model.trainable_variables)\n",
        "    \n",
        "    # type(grads)\n",
        "    # list\n",
        "    \n",
        "    '''\n",
        "    for orig_grads, mask in zip(grads, mask_model_stripped.trainable_weights):\n",
        "        # orig_grads.assign(tf.math.multiply(orig_grads, mask))\n",
        "        orig_grads = tf.math.multiply(orig_grads, mask)\n",
        "    '''\n",
        "    \n",
        "    # THIS IS CORRECT-\n",
        "    # List to hold element-wise multiplication between-\n",
        "    # computed gradient and masks-\n",
        "    grad_mask_mul = []\n",
        "    \n",
        "    # Perform element-wise multiplication between computed gradients and masks-\n",
        "    for grad_layer, mask in zip(grads, mask_model.trainable_weights):\n",
        "        grad_mask_mul.append(tf.math.multiply(grad_layer, mask))\n",
        "    \n",
        "    # Apply computed gradients to model's weights and biases-\n",
        "    # optimizer.apply_gradients(zip(grads, model.trainable_variables))\n",
        "    # normally we just apply the grads but here we use masked grads\n",
        "    optimizer.apply_gradients(zip(grad_mask_mul, model.trainable_variables))\n",
        "\n",
        "    # Compute accuracy-\n",
        "    train_loss(loss)\n",
        "    train_accuracy(y, y_pred)\n",
        "\n",
        "    # return model_loss\n",
        "    # return None\n"
      ],
      "execution_count": null,
      "outputs": []
    },
    {
      "cell_type": "code",
      "metadata": {
        "id": "PkNpHSddm2qq"
      },
      "source": [
        "@tf.function\n",
        "def test_step(model, optimizer, data, labels):\n",
        "    \"\"\"\n",
        "    Function to test model performance\n",
        "    on testing dataset\n",
        "    \"\"\"\n",
        "    \n",
        "    predictions = model(data)\n",
        "    t_loss = loss_fn(labels, predictions)\n",
        "\n",
        "    test_loss(t_loss)\n",
        "    test_accuracy(labels, predictions)\n"
      ],
      "execution_count": null,
      "outputs": []
    },
    {
      "cell_type": "code",
      "metadata": {
        "id": "uW_juojim2qs",
        "colab": {
          "base_uri": "https://localhost:8080/",
          "height": 527
        },
        "outputId": "769d0574-e260-4a2d-d5a7-d1514aa304fa"
      },
      "source": [
        "#min_loss and patience_sofar is the variables to manually enable early stopping  \n",
        "\n",
        "min_loss=10\n",
        "patience_sofar=0\n",
        "\n",
        "for epoch in range(10):\n",
        "    \n",
        "    #to stop training when earlystopping criterion met\n",
        "    if patience_sofar >= patience:\n",
        "        print(\"\\n\\nEarlyStopping Evoked! Stopping training\\n\\n\")\n",
        "        break\n",
        "    \n",
        "    # Reset the metrics at the start of the next epoch\n",
        "    train_loss.reset_states()\n",
        "    train_accuracy.reset_states()\n",
        "    test_loss.reset_states()\n",
        "    test_accuracy.reset_states()\n",
        "\n",
        "    for x, y in train_dataset:\n",
        "        train_one_step(model_gt_random_w_stripped, mask_model_stripped, optimizer, x, y)\n",
        "        \n",
        "\n",
        "    for x_t, y_t in test_dataset:\n",
        "        \n",
        "        test_step(model_gt_random_w_stripped, optimizer, x_t, y_t)\n",
        "\n",
        "    template = 'Epoch {0}, Loss: {1:.4f}, Accuracy: {2:.4f}, Test Loss: {3:.4f}, Test Accuracy: {4:4f}'\n",
        "\n",
        "    history_winning_random_w['accuracy'][epoch] = train_accuracy.result()\n",
        "    history_winning_random_w['loss'][epoch] = train_loss.result()\n",
        "    history_winning_random_w['val_loss'][epoch] = test_loss.result()\n",
        "    history_winning_random_w['val_accuracy'][epoch] = test_accuracy.result()\n",
        "\n",
        "    print(template.format(epoch + 1, \n",
        "                          train_loss.result(), train_accuracy.result()*100,\n",
        "                          test_loss.result(), test_accuracy.result()*100))\n",
        "    \n",
        "    # Count number of non-zero parameters in each layer and in total-\n",
        "\n",
        "    model_sum_params = 0\n",
        "    \n",
        "    for layer in model_gt_random_w_stripped.trainable_weights:\n",
        "        \n",
        "        model_sum_params += tf.math.count_nonzero(layer, axis = None).numpy()\n",
        "    \n",
        "    print(\"Total number of trainable parameters = {0}\\n\".format(model_sum_params))\n",
        "\n",
        "    #for computing the early stopping manually\n",
        "    \n",
        "    if (min_loss-history_winning_random_w['val_loss'][epoch])>minimum_delta:\n",
        "        min_loss=history_winning_random_w['val_loss'][epoch]\n",
        "    else:\n",
        "        patience_sofar+=1\n",
        "    \n",
        "            "
      ],
      "execution_count": null,
      "outputs": [
        {
          "output_type": "stream",
          "text": [
            "Epoch 1, Loss: 0.5141, Accuracy: 83.2033, Test Loss: 0.1502, Test Accuracy: 95.240005\n",
            "Total number of trainable parameters = 17201\n",
            "\n",
            "Epoch 2, Loss: 0.1510, Accuracy: 95.4533, Test Loss: 0.0982, Test Accuracy: 96.910004\n",
            "Total number of trainable parameters = 17201\n",
            "\n",
            "Epoch 3, Loss: 0.1020, Accuracy: 96.9367, Test Loss: 0.1278, Test Accuracy: 95.910004\n",
            "Total number of trainable parameters = 17201\n",
            "\n",
            "Epoch 4, Loss: 0.0850, Accuracy: 97.3833, Test Loss: 0.0768, Test Accuracy: 97.539993\n",
            "Total number of trainable parameters = 17201\n",
            "\n",
            "Epoch 5, Loss: 0.0736, Accuracy: 97.7533, Test Loss: 0.0589, Test Accuracy: 98.229996\n",
            "Total number of trainable parameters = 17201\n",
            "\n",
            "Epoch 6, Loss: 0.0618, Accuracy: 98.1200, Test Loss: 0.0547, Test Accuracy: 98.409996\n",
            "Total number of trainable parameters = 17201\n",
            "\n",
            "Epoch 7, Loss: 0.0554, Accuracy: 98.3067, Test Loss: 0.0652, Test Accuracy: 98.110001\n",
            "Total number of trainable parameters = 17201\n",
            "\n",
            "Epoch 8, Loss: 0.0507, Accuracy: 98.4200, Test Loss: 0.0506, Test Accuracy: 98.339996\n",
            "Total number of trainable parameters = 17201\n",
            "\n",
            "Epoch 9, Loss: 0.0455, Accuracy: 98.5417, Test Loss: 0.0468, Test Accuracy: 98.580002\n",
            "Total number of trainable parameters = 17201\n",
            "\n",
            "Epoch 10, Loss: 0.0421, Accuracy: 98.6600, Test Loss: 0.0484, Test Accuracy: 98.699997\n",
            "Total number of trainable parameters = 17201\n",
            "\n"
          ],
          "name": "stdout"
        }
      ]
    },
    {
      "cell_type": "code",
      "metadata": {
        "id": "PQCJ04mUm2qu",
        "colab": {
          "base_uri": "https://localhost:8080/",
          "height": 34
        },
        "outputId": "b3c28de1-f08d-4bc0-ebc0-eec492a0afac"
      },
      "source": [
        "#test accuracy of random weights winning ticket\n",
        "\n",
        "test_accuracy.reset_states()\n",
        "test_step(model_gt_random_w_stripped,optimizer,x_test,y_test)\n",
        "score_winning=test_accuracy.result()\n",
        "print(score_winning)"
      ],
      "execution_count": null,
      "outputs": [
        {
          "output_type": "stream",
          "text": [
            "tf.Tensor(0.987, shape=(), dtype=float32)\n"
          ],
          "name": "stdout"
        }
      ]
    },
    {
      "cell_type": "code",
      "metadata": {
        "id": "s3GXVXHrm2qw"
      },
      "source": [
        "#to clear the zero values from dictionary to have better visualization\n",
        "\n",
        "for k,v in history_winning_random_w.items():\n",
        "    history_winning_random_w[k]=np.where(v==0,np.nan,v)"
      ],
      "execution_count": null,
      "outputs": []
    },
    {
      "cell_type": "code",
      "metadata": {
        "id": "MrMGOibdm2qz",
        "colab": {
          "base_uri": "https://localhost:8080/",
          "height": 1000
        },
        "outputId": "c26c0652-8d4a-4768-c6eb-a56529a3b516"
      },
      "source": [
        "# Visualize neural network which is to be pruned off-\n",
        "fig=plt.figure(figsize=(10, 9), dpi= 80, facecolor='w', edgecolor='k')\n",
        "\n",
        "plt.plot(history_winning['loss'], label = 'wt training loss')\n",
        "plt.plot(history_winning['val_loss'], label = 'wt testing loss')\n",
        "plt.plot(history_winning_random_w['loss'], label = 'wt_rand training loss')\n",
        "plt.plot(history_winning_random_w['val_loss'], label = 'wt_rand testing loss')\n",
        "plt.plot(history_orig.history['loss'], label = 'orig training loss')\n",
        "plt.plot(history_orig.history['val_loss'], label = 'orig testing loss')\n",
        "\n",
        "\n",
        "plt.title(\"MNIST LSTM model - WINNING TICKET's vs ORIG MODEL training visualization - LOSS\")\n",
        "plt.ylabel(\"Loss\")\n",
        "plt.xlabel(\"number of epochs\")\n",
        "plt.legend(loc = 'best')\n",
        "plt.show()\n",
        "\n",
        "fig=plt.figure(figsize=(10, 9), dpi= 80, facecolor='w', edgecolor='k')\n",
        "\n",
        "plt.plot(history_winning['accuracy'], label = 'wt training accuracy')\n",
        "plt.plot(history_winning['val_accuracy'], label = 'wt testing accuracy')\n",
        "plt.plot(history_winning_random_w['accuracy'], label = 'wt_rand training accuracy')\n",
        "plt.plot(history_winning_random_w['val_accuracy'], label = 'wt_rand testing accuracy')\n",
        "plt.plot(history_orig.history['accuracy'], label = 'orig training accuracy')\n",
        "plt.plot(history_orig.history['val_accuracy'], label = 'orig testing accuracy')\n",
        "\n",
        "plt.title(\"MNIST LSTM model - WINNING TICKET's vs ORIG MODEL training visualization - ACCURACY\")\n",
        "plt.ylabel(\"Accuracy\")\n",
        "plt.xlabel(\"number of epochs\")\n",
        "plt.legend(loc = 'best')\n",
        "plt.show()"
      ],
      "execution_count": null,
      "outputs": [
        {
          "output_type": "display_data",
          "data": {
            "image/png": "[encoded data removed]",
            "text/plain": [
              "<Figure size 800x720 with 1 Axes>"
            ]
          },
          "metadata": {
            "tags": []
          }
        },
        {
          "output_type": "display_data",
          "data": {
            "image/png": "[encoded data removed]",
            "text/plain": [
              "<Figure size 800x720 with 1 Axes>"
            ]
          },
          "metadata": {
            "tags": []
          }
        }
      ]
    },
    {
      "cell_type": "markdown",
      "metadata": {
        "id": "e3og_Up4m2q2"
      },
      "source": [
        "### Observation\n",
        "\n",
        "Here we dont observe any particular difference with random initialization and original initialization.\n",
        "\n",
        "However, we have used _one shot_ approach while the study suggested _iterative_ pruning"
      ]
    }
  ]
}